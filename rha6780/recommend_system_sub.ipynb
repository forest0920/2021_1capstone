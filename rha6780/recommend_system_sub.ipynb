{
 "cells": [
  {
   "cell_type": "code",
   "execution_count": 1,
   "id": "d29ea40f",
   "metadata": {},
   "outputs": [],
   "source": [
    "\n",
    "import matplotlib.pyplot as plt\n",
    "import numpy as np\n",
    "import pandas as pd\n",
    "from surprise import SVD, Dataset, Reader\n",
    "from surprise.model_selection import train_test_split\n",
    "import pandas as pd\n",
    "import numpy as np\n",
    "from sklearn.metrics.pairwise import cosine_similarity\n",
    "from sklearn.feature_extraction.text import CountVectorizer\n",
    "\n",
    "from funcsigs import signature\n",
    "import recmetrics"
   ]
  },
  {
   "cell_type": "code",
   "execution_count": 2,
   "id": "f2626a8b",
   "metadata": {},
   "outputs": [],
   "source": [
    "#평점 3점 이상만\n",
    "db=pd.read_csv(\"D:/2021 파일들/1학기 과제 파일들/캡스톤/data/moviekk.csv\")\n",
    "\n",
    "\n",
    "ratings = pd.read_csv('D:/2021 파일들/1학기 과제 파일들/캡스톤/data/ratings.csv')\n",
    "rate=ratings\n",
    "ratings = ratings.query('rating >=3')\n",
    "\n",
    "ratings.reset_index(drop=True, inplace=True)"
   ]
  },
  {
   "cell_type": "code",
   "execution_count": 3,
   "id": "5e486e61",
   "metadata": {},
   "outputs": [],
   "source": [
    "#100명 이상의 투표\n",
    "n=1000\n",
    "users = ratings[\"userId\"].value_counts()\n",
    "users = users[users>n].index.tolist()"
   ]
  },
  {
   "cell_type": "code",
   "execution_count": 4,
   "id": "2e97e73b",
   "metadata": {
    "scrolled": true
   },
   "outputs": [
    {
     "name": "stdout",
     "output_type": "stream",
     "text": [
      "(85747, 4)\n"
     ]
    },
    {
     "data": {
      "text/html": [
       "<div>\n",
       "<style scoped>\n",
       "    .dataframe tbody tr th:only-of-type {\n",
       "        vertical-align: middle;\n",
       "    }\n",
       "\n",
       "    .dataframe tbody tr th {\n",
       "        vertical-align: top;\n",
       "    }\n",
       "\n",
       "    .dataframe thead th {\n",
       "        text-align: right;\n",
       "    }\n",
       "</style>\n",
       "<table border=\"1\" class=\"dataframe\">\n",
       "  <thead>\n",
       "    <tr style=\"text-align: right;\">\n",
       "      <th></th>\n",
       "      <th>userId</th>\n",
       "      <th>movieId</th>\n",
       "      <th>rating</th>\n",
       "      <th>timestamp</th>\n",
       "    </tr>\n",
       "  </thead>\n",
       "  <tbody>\n",
       "    <tr>\n",
       "      <th>56832</th>\n",
       "      <td>741</td>\n",
       "      <td>1</td>\n",
       "      <td>4.5</td>\n",
       "      <td>1397350892</td>\n",
       "    </tr>\n",
       "    <tr>\n",
       "      <th>56833</th>\n",
       "      <td>741</td>\n",
       "      <td>2</td>\n",
       "      <td>3.0</td>\n",
       "      <td>1120109650</td>\n",
       "    </tr>\n",
       "    <tr>\n",
       "      <th>56834</th>\n",
       "      <td>741</td>\n",
       "      <td>3</td>\n",
       "      <td>3.5</td>\n",
       "      <td>1453787958</td>\n",
       "    </tr>\n",
       "  </tbody>\n",
       "</table>\n",
       "</div>"
      ],
      "text/plain": [
       "       userId  movieId  rating   timestamp\n",
       "56832     741        1     4.5  1397350892\n",
       "56833     741        2     3.0  1120109650\n",
       "56834     741        3     3.5  1453787958"
      ]
     },
     "execution_count": 4,
     "metadata": {},
     "output_type": "execute_result"
    }
   ],
   "source": [
    "ratings = ratings.query('userId in @users')\n",
    "\n",
    "\n",
    "print(ratings.shape)\n",
    "ratings.head(3)"
   ]
  },
  {
   "cell_type": "code",
   "execution_count": 5,
   "id": "782052ac",
   "metadata": {},
   "outputs": [
    {
     "name": "stdout",
     "output_type": "stream",
     "text": [
      "         Unnamed: 0             title  \\\n",
      "movieId                                 \n",
      "1                 0  Toy Story (1995)   \n",
      "1                 1  Toy Story (1995)   \n",
      "1                 2  Toy Story (1995)   \n",
      "1                 3  Toy Story (1995)   \n",
      "1                 4  Toy Story (1995)   \n",
      "...             ...               ...   \n",
      "174055       100516    Dunkirk (2017)   \n",
      "174055       100517    Dunkirk (2017)   \n",
      "174055       100518    Dunkirk (2017)   \n",
      "174055       100519    Dunkirk (2017)   \n",
      "174055       100520    Dunkirk (2017)   \n",
      "\n",
      "                                              genres  userId  rating  \\\n",
      "movieId                                                                \n",
      "1        Adventure|Animation|Children|Comedy|Fantasy       1     4.0   \n",
      "1        Adventure|Animation|Children|Comedy|Fantasy       5     4.0   \n",
      "1        Adventure|Animation|Children|Comedy|Fantasy       7     4.5   \n",
      "1        Adventure|Animation|Children|Comedy|Fantasy      15     2.5   \n",
      "1        Adventure|Animation|Children|Comedy|Fantasy      17     4.5   \n",
      "...                                              ...     ...     ...   \n",
      "174055                     Action|Drama|Thriller|War     433     1.5   \n",
      "174055                     Action|Drama|Thriller|War     515     4.0   \n",
      "174055                     Action|Drama|Thriller|War     567     3.5   \n",
      "174055                     Action|Drama|Thriller|War     599     4.0   \n",
      "174055                     Action|Drama|Thriller|War     601     4.0   \n",
      "\n",
      "          timestamp  \n",
      "movieId              \n",
      "1         964982703  \n",
      "1         847434962  \n",
      "1        1106635946  \n",
      "1        1510577970  \n",
      "1        1305696483  \n",
      "...             ...  \n",
      "174055   1506823913  \n",
      "174055   1513602053  \n",
      "174055   1525285048  \n",
      "174055   1501801164  \n",
      "174055   1521397739  \n",
      "\n",
      "[99052 rows x 6 columns]\n",
      "       movieId          0          1         2       3        4     5     6  \\\n",
      "0            1  Adventure  Animation  Children  Comedy  Fantasy  None  None   \n",
      "1            1  Adventure  Animation  Children  Comedy  Fantasy  None  None   \n",
      "2            1  Adventure  Animation  Children  Comedy  Fantasy  None  None   \n",
      "3            1  Adventure  Animation  Children  Comedy  Fantasy  None  None   \n",
      "4            1  Adventure  Animation  Children  Comedy  Fantasy  None  None   \n",
      "...        ...        ...        ...       ...     ...      ...   ...   ...   \n",
      "99047   174055     Action      Drama  Thriller     War     None  None  None   \n",
      "99048   174055     Action      Drama  Thriller     War     None  None  None   \n",
      "99049   174055     Action      Drama  Thriller     War     None  None  None   \n",
      "99050   174055     Action      Drama  Thriller     War     None  None  None   \n",
      "99051   174055     Action      Drama  Thriller     War     None  None  None   \n",
      "\n",
      "          7     8     9  \n",
      "0      None  None  None  \n",
      "1      None  None  None  \n",
      "2      None  None  None  \n",
      "3      None  None  None  \n",
      "4      None  None  None  \n",
      "...     ...   ...   ...  \n",
      "99047  None  None  None  \n",
      "99048  None  None  None  \n",
      "99049  None  None  None  \n",
      "99050  None  None  None  \n",
      "99051  None  None  None  \n",
      "\n",
      "[99052 rows x 11 columns]\n"
     ]
    },
    {
     "data": {
      "text/html": [
       "<div>\n",
       "<style scoped>\n",
       "    .dataframe tbody tr th:only-of-type {\n",
       "        vertical-align: middle;\n",
       "    }\n",
       "\n",
       "    .dataframe tbody tr th {\n",
       "        vertical-align: top;\n",
       "    }\n",
       "\n",
       "    .dataframe thead th {\n",
       "        text-align: right;\n",
       "    }\n",
       "</style>\n",
       "<table border=\"1\" class=\"dataframe\">\n",
       "  <thead>\n",
       "    <tr style=\"text-align: right;\">\n",
       "      <th></th>\n",
       "      <th>(no genres listed)</th>\n",
       "      <th>Action</th>\n",
       "      <th>Adventure</th>\n",
       "      <th>Animation</th>\n",
       "      <th>Children</th>\n",
       "      <th>Comedy</th>\n",
       "      <th>Crime</th>\n",
       "      <th>Documentary</th>\n",
       "      <th>Drama</th>\n",
       "      <th>Fantasy</th>\n",
       "      <th>Film-Noir</th>\n",
       "      <th>Horror</th>\n",
       "      <th>Musical</th>\n",
       "      <th>Mystery</th>\n",
       "      <th>Romance</th>\n",
       "      <th>Sci-Fi</th>\n",
       "      <th>Thriller</th>\n",
       "      <th>War</th>\n",
       "      <th>Western</th>\n",
       "    </tr>\n",
       "    <tr>\n",
       "      <th>movieId</th>\n",
       "      <th></th>\n",
       "      <th></th>\n",
       "      <th></th>\n",
       "      <th></th>\n",
       "      <th></th>\n",
       "      <th></th>\n",
       "      <th></th>\n",
       "      <th></th>\n",
       "      <th></th>\n",
       "      <th></th>\n",
       "      <th></th>\n",
       "      <th></th>\n",
       "      <th></th>\n",
       "      <th></th>\n",
       "      <th></th>\n",
       "      <th></th>\n",
       "      <th></th>\n",
       "      <th></th>\n",
       "      <th></th>\n",
       "    </tr>\n",
       "  </thead>\n",
       "  <tbody>\n",
       "    <tr>\n",
       "      <th>1</th>\n",
       "      <td>0</td>\n",
       "      <td>0</td>\n",
       "      <td>1</td>\n",
       "      <td>0</td>\n",
       "      <td>0</td>\n",
       "      <td>0</td>\n",
       "      <td>0</td>\n",
       "      <td>0</td>\n",
       "      <td>0</td>\n",
       "      <td>0</td>\n",
       "      <td>0</td>\n",
       "      <td>0</td>\n",
       "      <td>0</td>\n",
       "      <td>0</td>\n",
       "      <td>0</td>\n",
       "      <td>0</td>\n",
       "      <td>0</td>\n",
       "      <td>0</td>\n",
       "      <td>0</td>\n",
       "    </tr>\n",
       "    <tr>\n",
       "      <th>2</th>\n",
       "      <td>0</td>\n",
       "      <td>0</td>\n",
       "      <td>1</td>\n",
       "      <td>0</td>\n",
       "      <td>0</td>\n",
       "      <td>0</td>\n",
       "      <td>0</td>\n",
       "      <td>0</td>\n",
       "      <td>0</td>\n",
       "      <td>0</td>\n",
       "      <td>0</td>\n",
       "      <td>0</td>\n",
       "      <td>0</td>\n",
       "      <td>0</td>\n",
       "      <td>0</td>\n",
       "      <td>0</td>\n",
       "      <td>0</td>\n",
       "      <td>0</td>\n",
       "      <td>0</td>\n",
       "    </tr>\n",
       "    <tr>\n",
       "      <th>3</th>\n",
       "      <td>0</td>\n",
       "      <td>0</td>\n",
       "      <td>0</td>\n",
       "      <td>0</td>\n",
       "      <td>0</td>\n",
       "      <td>1</td>\n",
       "      <td>0</td>\n",
       "      <td>0</td>\n",
       "      <td>0</td>\n",
       "      <td>0</td>\n",
       "      <td>0</td>\n",
       "      <td>0</td>\n",
       "      <td>0</td>\n",
       "      <td>0</td>\n",
       "      <td>0</td>\n",
       "      <td>0</td>\n",
       "      <td>0</td>\n",
       "      <td>0</td>\n",
       "      <td>0</td>\n",
       "    </tr>\n",
       "    <tr>\n",
       "      <th>4</th>\n",
       "      <td>0</td>\n",
       "      <td>0</td>\n",
       "      <td>0</td>\n",
       "      <td>0</td>\n",
       "      <td>0</td>\n",
       "      <td>1</td>\n",
       "      <td>0</td>\n",
       "      <td>0</td>\n",
       "      <td>0</td>\n",
       "      <td>0</td>\n",
       "      <td>0</td>\n",
       "      <td>0</td>\n",
       "      <td>0</td>\n",
       "      <td>0</td>\n",
       "      <td>0</td>\n",
       "      <td>0</td>\n",
       "      <td>0</td>\n",
       "      <td>0</td>\n",
       "      <td>0</td>\n",
       "    </tr>\n",
       "    <tr>\n",
       "      <th>5</th>\n",
       "      <td>0</td>\n",
       "      <td>0</td>\n",
       "      <td>0</td>\n",
       "      <td>0</td>\n",
       "      <td>0</td>\n",
       "      <td>1</td>\n",
       "      <td>0</td>\n",
       "      <td>0</td>\n",
       "      <td>0</td>\n",
       "      <td>0</td>\n",
       "      <td>0</td>\n",
       "      <td>0</td>\n",
       "      <td>0</td>\n",
       "      <td>0</td>\n",
       "      <td>0</td>\n",
       "      <td>0</td>\n",
       "      <td>0</td>\n",
       "      <td>0</td>\n",
       "      <td>0</td>\n",
       "    </tr>\n",
       "  </tbody>\n",
       "</table>\n",
       "</div>"
      ],
      "text/plain": [
       "         (no genres listed)  Action  Adventure  Animation  Children  Comedy  \\\n",
       "movieId                                                                       \n",
       "1                         0       0          1          0         0       0   \n",
       "2                         0       0          1          0         0       0   \n",
       "3                         0       0          0          0         0       1   \n",
       "4                         0       0          0          0         0       1   \n",
       "5                         0       0          0          0         0       1   \n",
       "\n",
       "         Crime  Documentary  Drama  Fantasy  Film-Noir  Horror  Musical  \\\n",
       "movieId                                                                   \n",
       "1            0            0      0        0          0       0        0   \n",
       "2            0            0      0        0          0       0        0   \n",
       "3            0            0      0        0          0       0        0   \n",
       "4            0            0      0        0          0       0        0   \n",
       "5            0            0      0        0          0       0        0   \n",
       "\n",
       "         Mystery  Romance  Sci-Fi  Thriller  War  Western  \n",
       "movieId                                                    \n",
       "1              0        0       0         0    0        0  \n",
       "2              0        0       0         0    0        0  \n",
       "3              0        0       0         0    0        0  \n",
       "4              0        0       0         0    0        0  \n",
       "5              0        0       0         0    0        0  "
      ]
     },
     "execution_count": 5,
     "metadata": {},
     "output_type": "execute_result"
    }
   ],
   "source": [
    "rated_movies = ratings[\"movieId\"].tolist()\n",
    "\n",
    "movies = pd.read_csv('D:/2021 파일들/1학기 과제 파일들/캡스톤/data/moviedbs.csv')\n",
    "movies = movies.query('movieId in @rated_movies')\n",
    "movies.set_index(\"movieId\", inplace=True, drop=True)\n",
    "\n",
    "\n",
    "print(movies)\n",
    "\n",
    "movies = movies[\"genres\"].str.split(\"|\", expand=True)\n",
    "movies.reset_index(inplace=True)\n",
    "print(movies)\n",
    "\n",
    "\n",
    "movies = pd.melt(movies, id_vars='movieId', value_vars=[0, 1])\n",
    "\n",
    "movies.drop_duplicates(\"movieId\", inplace=True)\n",
    "movies.set_index('movieId', inplace=True)\n",
    "\n",
    "movies = pd.get_dummies(movies.value)\n",
    "movies.head()\n",
    "\n"
   ]
  },
  {
   "cell_type": "code",
   "execution_count": 6,
   "id": "d5d2df17",
   "metadata": {
    "scrolled": true
   },
   "outputs": [
    {
     "name": "stderr",
     "output_type": "stream",
     "text": [
      "C:\\Users\\rha45\\AppData\\Roaming\\Python\\Python37\\site-packages\\seaborn\\_decorators.py:43: FutureWarning: Pass the following variable as a keyword arg: x. From version 0.12, the only valid positional argument will be `data`, and passing other arguments without an explicit keyword will result in an error or misinterpretation.\n",
      "  FutureWarning\n"
     ]
    },
    {
     "data": {
      "image/png": "[encoded data removed]",
      "text/plain": [
       "<Figure size 1080x504 with 1 Axes>"
      ]
     },
     "metadata": {
      "needs_background": "light"
     },
     "output_type": "display_data"
    }
   ],
   "source": [
    "#희소성과 인기 편향을 중심으로 한 그래프\n",
    "fig = plt.figure(figsize=(15, 7))\n",
    "recmetrics.long_tail_plot(df=ratings, \n",
    "             item_id_column=\"movieId\", \n",
    "             interaction_type=\"movie ratings\", \n",
    "             percentage=0.5,\n",
    "             x_labels=False)"
   ]
  },
  {
   "cell_type": "code",
   "execution_count": 7,
   "id": "854ae0d2",
   "metadata": {},
   "outputs": [],
   "source": [
    "#collaborative filter recommender\n",
    "reader = Reader(rating_scale=(0, 5))\n",
    "data = Dataset.load_from_df(ratings[['userId', 'movieId', 'rating']], reader)\n",
    "trainset, testset = train_test_split(data, test_size=0.25)"
   ]
  },
  {
   "cell_type": "code",
   "execution_count": 8,
   "id": "ad55b393",
   "metadata": {},
   "outputs": [
    {
     "data": {
      "text/plain": [
       "<surprise.prediction_algorithms.matrix_factorization.SVD at 0x26c4e528788>"
      ]
     },
     "execution_count": 8,
     "metadata": {},
     "output_type": "execute_result"
    }
   ],
   "source": [
    "#surprise 사용 위해 데이터 포맷\n",
    "algo = SVD()\n",
    "algo.fit(trainset)"
   ]
  },
  {
   "cell_type": "code",
   "execution_count": 9,
   "id": "2b53a432",
   "metadata": {
    "scrolled": true
   },
   "outputs": [
    {
     "data": {
      "text/html": [
       "<div>\n",
       "<style scoped>\n",
       "    .dataframe tbody tr th:only-of-type {\n",
       "        vertical-align: middle;\n",
       "    }\n",
       "\n",
       "    .dataframe tbody tr th {\n",
       "        vertical-align: top;\n",
       "    }\n",
       "\n",
       "    .dataframe thead th {\n",
       "        text-align: right;\n",
       "    }\n",
       "</style>\n",
       "<table border=\"1\" class=\"dataframe\">\n",
       "  <thead>\n",
       "    <tr style=\"text-align: right;\">\n",
       "      <th></th>\n",
       "      <th>userId</th>\n",
       "      <th>movieId</th>\n",
       "      <th>actual</th>\n",
       "      <th>cf_predictions</th>\n",
       "    </tr>\n",
       "  </thead>\n",
       "  <tbody>\n",
       "    <tr>\n",
       "      <th>0</th>\n",
       "      <td>2885</td>\n",
       "      <td>2857</td>\n",
       "      <td>3.5</td>\n",
       "      <td>4.008780</td>\n",
       "    </tr>\n",
       "    <tr>\n",
       "      <th>1</th>\n",
       "      <td>5829</td>\n",
       "      <td>902</td>\n",
       "      <td>3.0</td>\n",
       "      <td>3.389744</td>\n",
       "    </tr>\n",
       "    <tr>\n",
       "      <th>2</th>\n",
       "      <td>2520</td>\n",
       "      <td>2944</td>\n",
       "      <td>3.5</td>\n",
       "      <td>4.079301</td>\n",
       "    </tr>\n",
       "    <tr>\n",
       "      <th>3</th>\n",
       "      <td>8659</td>\n",
       "      <td>2417</td>\n",
       "      <td>3.0</td>\n",
       "      <td>3.386003</td>\n",
       "    </tr>\n",
       "    <tr>\n",
       "      <th>4</th>\n",
       "      <td>7457</td>\n",
       "      <td>112171</td>\n",
       "      <td>3.5</td>\n",
       "      <td>3.465712</td>\n",
       "    </tr>\n",
       "  </tbody>\n",
       "</table>\n",
       "</div>"
      ],
      "text/plain": [
       "   userId  movieId  actual  cf_predictions\n",
       "0    2885     2857     3.5        4.008780\n",
       "1    5829      902     3.0        3.389744\n",
       "2    2520     2944     3.5        4.079301\n",
       "3    8659     2417     3.0        3.386003\n",
       "4    7457   112171     3.5        3.465712"
      ]
     },
     "execution_count": 9,
     "metadata": {},
     "output_type": "execute_result"
    }
   ],
   "source": [
    "#train svd recommender\n",
    "test = algo.test(testset)\n",
    "test = pd.DataFrame(test)\n",
    "\n",
    "test.drop(\"details\", inplace=True, axis=1)\n",
    "test.columns = ['userId', 'movieId', 'actual', 'cf_predictions']\n",
    "mdb=test\n",
    "test.head()"
   ]
  },
  {
   "cell_type": "code",
   "execution_count": 10,
   "id": "4c91031a",
   "metadata": {},
   "outputs": [
    {
     "name": "stdout",
     "output_type": "stream",
     "text": [
      "MSE:  0.2787094037775281\n",
      "RMSE:  0.5279293549117421\n"
     ]
    }
   ],
   "source": [
    "#mse와 rmse로 모델 비교\n",
    "print(\"MSE: \", recmetrics.mse(test.actual, test.cf_predictions))\n",
    "print(\"RMSE: \", recmetrics.rmse(test.actual, test.cf_predictions))"
   ]
  },
  {
   "cell_type": "code",
   "execution_count": 11,
   "id": "cdfba768",
   "metadata": {},
   "outputs": [],
   "source": [
    "#예상이 되는 평점으로 매트릭스 만들기\n",
    "cf_model = test.pivot_table(index='userId', columns='movieId', values='cf_predictions').fillna(0)"
   ]
  },
  {
   "cell_type": "code",
   "execution_count": 12,
   "id": "858ce459",
   "metadata": {},
   "outputs": [],
   "source": [
    "def get_users_predictions(user_id, n, model):\n",
    "    recommended_items = pd.DataFrame(model.loc[user_id])\n",
    "    recommended_items.columns = [\"predicted_rating\"]\n",
    "    recommended_items = recommended_items.sort_values('predicted_rating', ascending=False)    \n",
    "    recommended_items = recommended_items.head(n)\n",
    "    return recommended_items.index.tolist()"
   ]
  },
  {
   "cell_type": "code",
   "execution_count": 13,
   "id": "4d61db09",
   "metadata": {},
   "outputs": [
    {
     "data": {
      "text/plain": [
       "[912, 1213, 1704, 6016, 1617, 48516, 1250, 3671, 47, 1253]"
      ]
     },
     "execution_count": 13,
     "metadata": {},
     "output_type": "execute_result"
    }
   ],
   "source": [
    "#448번의 예측값\n",
    "get_users_predictions(741, 10, cf_model)"
   ]
  },
  {
   "cell_type": "code",
   "execution_count": 14,
   "id": "91dcc10c",
   "metadata": {},
   "outputs": [],
   "source": [
    "test = test.copy().groupby('userId', as_index=False)['movieId'].agg({'actual': (lambda x: list(set(x)))})"
   ]
  },
  {
   "cell_type": "code",
   "execution_count": 15,
   "id": "187865ad",
   "metadata": {},
   "outputs": [],
   "source": [
    "test = test.set_index(\"userId\")"
   ]
  },
  {
   "cell_type": "code",
   "execution_count": 16,
   "id": "2764826b",
   "metadata": {},
   "outputs": [
    {
     "name": "stdout",
     "output_type": "stream",
     "text": [
      "601\n"
     ]
    }
   ],
   "source": [
    "#print(test[test.index==741])\n",
    "l1=[]\n",
    "l1=test.iloc[0]['actual']\n",
    "print(len(l1))\n",
    "#print(test[test.index==741]['actual'])\n",
    "cnt=0\n",
    "#test1['movie']=test[test.index==741]['actual'].apply(lambda x:x.split(','))\n",
    "#print(test1['movie'])"
   ]
  },
  {
   "cell_type": "code",
   "execution_count": 17,
   "id": "a31843ba",
   "metadata": {},
   "outputs": [
    {
     "data": {
      "text/html": [
       "<div>\n",
       "<style scoped>\n",
       "    .dataframe tbody tr th:only-of-type {\n",
       "        vertical-align: middle;\n",
       "    }\n",
       "\n",
       "    .dataframe tbody tr th {\n",
       "        vertical-align: top;\n",
       "    }\n",
       "\n",
       "    .dataframe thead th {\n",
       "        text-align: right;\n",
       "    }\n",
       "</style>\n",
       "<table border=\"1\" class=\"dataframe\">\n",
       "  <thead>\n",
       "    <tr style=\"text-align: right;\">\n",
       "      <th></th>\n",
       "      <th>actual</th>\n",
       "      <th>cf_predictions</th>\n",
       "    </tr>\n",
       "    <tr>\n",
       "      <th>userId</th>\n",
       "      <th></th>\n",
       "      <th></th>\n",
       "    </tr>\n",
       "  </thead>\n",
       "  <tbody>\n",
       "    <tr>\n",
       "      <th>741</th>\n",
       "      <td>[122882, 3, 2052, 40966, 2058, 12, 106508, 206...</td>\n",
       "      <td>[912, 1213, 1704, 6016, 1617, 48516, 1250, 367...</td>\n",
       "    </tr>\n",
       "    <tr>\n",
       "      <th>836</th>\n",
       "      <td>[2048, 40962, 2, 122886, 122892, 4118, 6166, 2...</td>\n",
       "      <td>[1196, 750, 2571, 1208, 541, 46578, 1240, 1270...</td>\n",
       "    </tr>\n",
       "    <tr>\n",
       "      <th>1652</th>\n",
       "      <td>[1029, 6, 4102, 1035, 2571, 78349, 1552, 15720...</td>\n",
       "      <td>[4993, 296, 2571, 4973, 1222, 2959, 1266, 912,...</td>\n",
       "    </tr>\n",
       "    <tr>\n",
       "      <th>1846</th>\n",
       "      <td>[69122, 26631, 6664, 1033, 4105, 2571, 55820, ...</td>\n",
       "      <td>[1198, 260, 2571, 1617, 7361, 923, 1233, 750, ...</td>\n",
       "    </tr>\n",
       "    <tr>\n",
       "      <th>2313</th>\n",
       "      <td>[2050, 515, 1028, 1029, 1031, 4104, 2571, 4621...</td>\n",
       "      <td>[1196, 1284, 4993, 1204, 1221, 1272, 2571, 593...</td>\n",
       "    </tr>\n",
       "  </tbody>\n",
       "</table>\n",
       "</div>"
      ],
      "text/plain": [
       "                                                   actual  \\\n",
       "userId                                                      \n",
       "741     [122882, 3, 2052, 40966, 2058, 12, 106508, 206...   \n",
       "836     [2048, 40962, 2, 122886, 122892, 4118, 6166, 2...   \n",
       "1652    [1029, 6, 4102, 1035, 2571, 78349, 1552, 15720...   \n",
       "1846    [69122, 26631, 6664, 1033, 4105, 2571, 55820, ...   \n",
       "2313    [2050, 515, 1028, 1029, 1031, 4104, 2571, 4621...   \n",
       "\n",
       "                                           cf_predictions  \n",
       "userId                                                     \n",
       "741     [912, 1213, 1704, 6016, 1617, 48516, 1250, 367...  \n",
       "836     [1196, 750, 2571, 1208, 541, 46578, 1240, 1270...  \n",
       "1652    [4993, 296, 2571, 4973, 1222, 2959, 1266, 912,...  \n",
       "1846    [1198, 260, 2571, 1617, 7361, 923, 1233, 750, ...  \n",
       "2313    [1196, 1284, 4993, 1204, 1221, 1272, 2571, 593...  "
      ]
     },
     "execution_count": 17,
     "metadata": {},
     "output_type": "execute_result"
    }
   ],
   "source": [
    "#모든 userid에 대한 영화추천 10개 collaborative 위주\n",
    "cf_recs = [] = []\n",
    "for user in test.index:\n",
    "    cf_predictions = get_users_predictions(user, 10, cf_model)\n",
    "    cf_recs.append(cf_predictions)\n",
    "        \n",
    "test['cf_predictions'] = cf_recs\n",
    "test.head()"
   ]
  },
  {
   "cell_type": "code",
   "execution_count": 18,
   "id": "314fa134",
   "metadata": {},
   "outputs": [
    {
     "data": {
      "text/html": [
       "<div>\n",
       "<style scoped>\n",
       "    .dataframe tbody tr th:only-of-type {\n",
       "        vertical-align: middle;\n",
       "    }\n",
       "\n",
       "    .dataframe tbody tr th {\n",
       "        vertical-align: top;\n",
       "    }\n",
       "\n",
       "    .dataframe thead th {\n",
       "        text-align: right;\n",
       "    }\n",
       "</style>\n",
       "<table border=\"1\" class=\"dataframe\">\n",
       "  <thead>\n",
       "    <tr style=\"text-align: right;\">\n",
       "      <th></th>\n",
       "      <th>actual</th>\n",
       "      <th>cf_predictions</th>\n",
       "      <th>pop_predictions</th>\n",
       "    </tr>\n",
       "    <tr>\n",
       "      <th>userId</th>\n",
       "      <th></th>\n",
       "      <th></th>\n",
       "      <th></th>\n",
       "    </tr>\n",
       "  </thead>\n",
       "  <tbody>\n",
       "    <tr>\n",
       "      <th>741</th>\n",
       "      <td>[122882, 3, 2052, 40966, 2058, 12, 106508, 206...</td>\n",
       "      <td>[912, 1213, 1704, 6016, 1617, 48516, 1250, 367...</td>\n",
       "      <td>[1270, 2571, 480, 593, 318, 1, 2716, 1198, 124...</td>\n",
       "    </tr>\n",
       "    <tr>\n",
       "      <th>836</th>\n",
       "      <td>[2048, 40962, 2, 122886, 122892, 4118, 6166, 2...</td>\n",
       "      <td>[1196, 750, 2571, 1208, 541, 46578, 1240, 1270...</td>\n",
       "      <td>[1270, 2571, 480, 593, 318, 1, 2716, 1198, 124...</td>\n",
       "    </tr>\n",
       "    <tr>\n",
       "      <th>1652</th>\n",
       "      <td>[1029, 6, 4102, 1035, 2571, 78349, 1552, 15720...</td>\n",
       "      <td>[4993, 296, 2571, 4973, 1222, 2959, 1266, 912,...</td>\n",
       "      <td>[1270, 2571, 480, 593, 318, 1, 2716, 1198, 124...</td>\n",
       "    </tr>\n",
       "    <tr>\n",
       "      <th>1846</th>\n",
       "      <td>[69122, 26631, 6664, 1033, 4105, 2571, 55820, ...</td>\n",
       "      <td>[1198, 260, 2571, 1617, 7361, 923, 1233, 750, ...</td>\n",
       "      <td>[1270, 2571, 480, 593, 318, 1, 2716, 1198, 124...</td>\n",
       "    </tr>\n",
       "    <tr>\n",
       "      <th>2313</th>\n",
       "      <td>[2050, 515, 1028, 1029, 1031, 4104, 2571, 4621...</td>\n",
       "      <td>[1196, 1284, 4993, 1204, 1221, 1272, 2571, 593...</td>\n",
       "      <td>[1270, 2571, 480, 593, 318, 1, 2716, 1198, 124...</td>\n",
       "    </tr>\n",
       "  </tbody>\n",
       "</table>\n",
       "</div>"
      ],
      "text/plain": [
       "                                                   actual  \\\n",
       "userId                                                      \n",
       "741     [122882, 3, 2052, 40966, 2058, 12, 106508, 206...   \n",
       "836     [2048, 40962, 2, 122886, 122892, 4118, 6166, 2...   \n",
       "1652    [1029, 6, 4102, 1035, 2571, 78349, 1552, 15720...   \n",
       "1846    [69122, 26631, 6664, 1033, 4105, 2571, 55820, ...   \n",
       "2313    [2050, 515, 1028, 1029, 1031, 4104, 2571, 4621...   \n",
       "\n",
       "                                           cf_predictions  \\\n",
       "userId                                                      \n",
       "741     [912, 1213, 1704, 6016, 1617, 48516, 1250, 367...   \n",
       "836     [1196, 750, 2571, 1208, 541, 46578, 1240, 1270...   \n",
       "1652    [4993, 296, 2571, 4973, 1222, 2959, 1266, 912,...   \n",
       "1846    [1198, 260, 2571, 1617, 7361, 923, 1233, 750, ...   \n",
       "2313    [1196, 1284, 4993, 1204, 1221, 1272, 2571, 593...   \n",
       "\n",
       "                                          pop_predictions  \n",
       "userId                                                     \n",
       "741     [1270, 2571, 480, 593, 318, 1, 2716, 1198, 124...  \n",
       "836     [1270, 2571, 480, 593, 318, 1, 2716, 1198, 124...  \n",
       "1652    [1270, 2571, 480, 593, 318, 1, 2716, 1198, 124...  \n",
       "1846    [1270, 2571, 480, 593, 318, 1, 2716, 1198, 124...  \n",
       "2313    [1270, 2571, 480, 593, 318, 1, 2716, 1198, 124...  "
      ]
     },
     "execution_count": 18,
     "metadata": {},
     "output_type": "execute_result"
    }
   ],
   "source": [
    "#가장 잘나가는 영화 10개\n",
    "popularity_recs = ratings.movieId.value_counts().head(10).index.tolist()\n",
    "\n",
    "pop_recs = []\n",
    "for user in test.index:\n",
    "    pop_predictions = popularity_recs\n",
    "    pop_recs.append(pop_predictions)\n",
    "        \n",
    "test['pop_predictions'] = pop_recs\n",
    "test.head()"
   ]
  },
  {
   "cell_type": "code",
   "execution_count": 19,
   "id": "2ae83564",
   "metadata": {},
   "outputs": [],
   "source": [
    "#10개의 무작위 영화\n",
    "ran_recs = []\n",
    "for user in test.index:\n",
    "    random_predictions = ratings.movieId.sample(10).values.tolist()\n",
    "    ran_recs.append(random_predictions)\n",
    "        \n",
    "test['random_predictions'] = ran_recs\n"
   ]
  },
  {
   "cell_type": "code",
   "execution_count": 20,
   "id": "599e7740",
   "metadata": {},
   "outputs": [
    {
     "name": "stdout",
     "output_type": "stream",
     "text": [
      "Int64Index([  741,   836,  1652,  1846,  2313,  2520,  2531,  2547,  2639,\n",
      "             2885,  2975,  3140,  3437,  3771,  3780,  4160,  4294,  4323,\n",
      "             4387,  4916,  4964,  5523,  5620,  5641,  5829,  5915,  5953,\n",
      "             6188,  6222,  6513,  6812,  6914,  7107,  7155,  7238,  7417,\n",
      "             7457,  8273,  8287,  8622,  8659,  8667,  9040,  9164,  9279,\n",
      "             9488,  9788, 10082, 10086, 10132, 10223, 10250, 10637],\n",
      "           dtype='int64', name='userId')\n",
      "[20, 117, 558, 228, 189, 137, 568, 505, 136, 87]\n",
      "[332, 12, 507, 222, 286, 43, 165, 500, 128, 215]\n",
      "[150, 194, 191, 112, 202, 38, 114, 20, 335, 330]\n",
      "[518, 187, 193, 202, 219, 442, 577, 609, 398, 578]\n",
      "[477, 84, 5, 58, 119, 134, 86, 576, 330, 478]\n",
      "[86, 58, 233, 178, 150, 330, 238, 534, 119, 39]\n",
      "[436, 218, 15, 81, 157, 457, 236, 188, 386, 172]\n",
      "[137, 79, 184, 109, 191, 228, 28, 312, 568, 189]\n",
      "[237, 85, 250, 505, 35, 117, 175, 136, 508, 163]\n",
      "[274, 120, 168, 229, 75, 136, 87, 49, 180, 236]\n",
      "[258, 216, 203, 82, 240, 144, 277, 40, 257, 329]\n",
      "[210, 270, 535, 272, 31, 271, 549, 68, 403, 207]\n",
      "[62, 215, 52, 138, 128, 36, 326, 43, 222, 359]\n",
      "[87, 62, 234, 36, 49, 274, 222, 136, 117, 326]\n",
      "[126, 77, 254, 28, 189, 480, 139, 334, 244, 27]\n",
      "[81, 25, 111, 503, 48, 168, 457, 218, 77, 70]\n",
      "[417, 160, 459, 44, 58, 318, 238, 86, 316, 534]\n",
      "[106, 36, 168, 267, 235, 117, 61, 83, 286, 20]\n",
      "[291, 162, 133, 351, 280, 287, 329, 132, 277, 296]\n",
      "[114, 201, 152, 112, 244, 23, 267, 320, 322, 189]\n",
      "[558, 330, 39, 2, 568, 89, 191, 150, 19, 428]\n",
      "[167, 115, 336, 22, 291, 310, 296, 258, 104, 245]\n",
      "[167, 23, 21, 203, 267, 551, 310, 201, 83, 257]\n",
      "[245, 83, 240, 167, 22, 320, 199, 19, 201, 267]\n",
      "[335, 179, 340, 458, 301, 445, 590, 109, 79, 313]\n",
      "[48, 503, 111, 15, 81, 168, 70, 124, 59, 77]\n",
      "[330, 5, 357, 84, 223, 238, 58, 440, 477, 118]\n",
      "[340, 335, 312, 78, 196, 456, 191, 79, 89, 14]\n",
      "[77, 254, 334, 230, 78, 7, 189, 568, 94, 152]\n",
      "[88, 206, 369, 202, 2, 445, 577, 562, 158, 505]\n",
      "[419, 173, 273, 430, 431, 105, 506, 231, 586, 76]\n",
      "[270, 11, 395, 210, 174, 99, 593, 272, 381, 535]\n",
      "[212, 238, 98, 214, 211, 223, 45, 333, 161, 89]\n",
      "[137, 445, 344, 343, 142, 79, 184, 480, 505, 7]\n",
      "[313, 179, 86, 238, 150, 58, 333, 119, 38, 194]\n",
      "[136, 117, 120, 505, 166, 163, 193, 175, 421, 228]\n",
      "[177, 17, 62, 12, 13, 61, 234, 117, 239, 138]\n",
      "[201, 42, 220, 138, 267, 378, 330, 22, 162, 371]\n",
      "[150, 219, 119, 313, 86, 2, 233, 198, 450, 335]\n",
      "[330, 558, 20, 42, 534, 5, 86, 150, 109, 58]\n",
      "[351, 269, 144, 277, 10, 332, 350, 63, 242, 329]\n",
      "[296, 104, 432, 490, 336, 21, 286, 291, 115, 167]\n",
      "[459, 417, 160, 330, 39, 50, 420, 220, 533, 37]\n",
      "[128, 359, 62, 215, 205, 258, 115, 553, 21, 542]\n",
      "[16, 417, 420, 534, 39, 330, 58, 34, 42, 238]\n",
      "[212, 94, 89, 78, 254, 32, 77, 320, 98, 152]\n",
      "[72, 123, 116, 512, 246, 140, 371, 132, 432, 65]\n",
      "[288, 256, 132, 351, 279, 350, 72, 63, 289, 140]\n",
      "[25, 59, 503, 15, 81, 168, 124, 111, 136, 77]\n",
      "[62, 245, 326, 424, 240, 222, 321, 252, 23, 563]\n",
      "[533, 42, 459, 160, 417, 330, 420, 16, 247, 309]\n",
      "[151, 81, 6, 273, 124, 97, 169, 113, 221, 231]\n",
      "[12, 128, 92, 43, 171, 424, 210, 195, 62, 215]\n"
     ]
    }
   ],
   "source": [
    "#장르의 비율\n",
    "\n",
    "\n",
    "cm=CountVectorizer().fit_transform(db['genre'])\n",
    "\n",
    "cs=cosine_similarity(cm)\n",
    "#print(cs)\n",
    "def get_recommendations_ratio(userid):\n",
    "    sim_scores = list(enumerate(cs[userid]))\n",
    "    sim_scores = sorted(sim_scores, key=lambda x: x[1], reverse=True) #내림차순\n",
    "    sim_scores = sim_scores[1:11]\n",
    "    movie_indices = [i[0] for i in sim_scores]\n",
    "    return movie_indices\n",
    "person=[]\n",
    "print(test.index)\n",
    "for user in range(0,test.index.size):\n",
    "    print(get_recommendations_ratio(user))\n",
    "for user in range(0,test.index.size):\n",
    "    person.append(get_recommendations_ratio(user))\n"
   ]
  },
  {
   "cell_type": "code",
   "execution_count": 21,
   "id": "4a65c882",
   "metadata": {},
   "outputs": [],
   "source": [
    "gratio_recs=[]\n",
    "\n",
    "compare=[]\n",
    "for i in range(0,len(person)):\n",
    "    gratio=[]\n",
    "    for user_id in person[i]:\n",
    "        gratio_prediction=rate[rate['userId']==user_id]\n",
    "        gratio_prediction=gratio_prediction.sort_values(by=['timestamp'], axis=0,ascending=False )\n",
    "        for h in range(0,2):\n",
    "            if len(gratio_prediction)>2:\n",
    "                gratio_prediction_0=gratio_prediction.iloc[h][\"movieId\"]\n",
    "                #print(gratio_prediction_0)\n",
    "                rate1=rate[(rate['userId']==user_id)&(rate['movieId']==gratio_prediction_0)]\n",
    "                for x in rate1['rating']:\n",
    "                    if x>2.5:\n",
    "                        dic=dict()\n",
    "                        dic['predicted']=x\n",
    "                        dic['truth']=1\n",
    "                        compare.append(dic)\n",
    "                    else:\n",
    "                        dic=dict()\n",
    "                        dic['predicted']=x\n",
    "                        dic['truth']=0\n",
    "                        compare.append(dic)\n",
    "                \n",
    "            \n",
    "        gratio.append(gratio_prediction_0)\n",
    "    gratio_recs.append(gratio)\n",
    "test['gratio_predictions']=gratio_recs\n",
    "#print(compare)\n",
    "        \n",
    "   \n",
    "        \n",
    "    \n",
    "   "
   ]
  },
  {
   "cell_type": "code",
   "execution_count": 22,
   "id": "0887ee9b",
   "metadata": {},
   "outputs": [],
   "source": [
    "for i in range(len(gratio_recs)):\n",
    "    for j in range(len(gratio_recs[i])):\n",
    "        gratio_recs[i][j]=int(gratio_recs[i][j])"
   ]
  },
  {
   "cell_type": "code",
   "execution_count": 23,
   "id": "72c7494d",
   "metadata": {},
   "outputs": [
    {
     "data": {
      "text/html": [
       "<div>\n",
       "<style scoped>\n",
       "    .dataframe tbody tr th:only-of-type {\n",
       "        vertical-align: middle;\n",
       "    }\n",
       "\n",
       "    .dataframe tbody tr th {\n",
       "        vertical-align: top;\n",
       "    }\n",
       "\n",
       "    .dataframe thead th {\n",
       "        text-align: right;\n",
       "    }\n",
       "</style>\n",
       "<table border=\"1\" class=\"dataframe\">\n",
       "  <thead>\n",
       "    <tr style=\"text-align: right;\">\n",
       "      <th></th>\n",
       "      <th>actual</th>\n",
       "      <th>cf_predictions</th>\n",
       "      <th>pop_predictions</th>\n",
       "      <th>random_predictions</th>\n",
       "      <th>gratio_predictions</th>\n",
       "    </tr>\n",
       "    <tr>\n",
       "      <th>userId</th>\n",
       "      <th></th>\n",
       "      <th></th>\n",
       "      <th></th>\n",
       "      <th></th>\n",
       "      <th></th>\n",
       "    </tr>\n",
       "  </thead>\n",
       "  <tbody>\n",
       "    <tr>\n",
       "      <th>741</th>\n",
       "      <td>[122882, 3, 2052, 40966, 2058, 12, 106508, 206...</td>\n",
       "      <td>[912, 1213, 1704, 6016, 1617, 48516, 1250, 367...</td>\n",
       "      <td>[1270, 2571, 480, 593, 318, 1, 2716, 1198, 124...</td>\n",
       "      <td>[3697, 91762, 5544, 1245, 2106, 6605, 33166, 7...</td>\n",
       "      <td>[155064, 2551, 653, 2657, 2581, 2253, 115149, ...</td>\n",
       "    </tr>\n",
       "    <tr>\n",
       "      <th>836</th>\n",
       "      <td>[2048, 40962, 2, 122886, 122892, 4118, 6166, 2...</td>\n",
       "      <td>[1196, 750, 2571, 1208, 541, 46578, 1240, 1270...</td>\n",
       "      <td>[1270, 2571, 480, 593, 318, 1, 2716, 1198, 124...</td>\n",
       "      <td>[93831, 2997, 99117, 42011, 150, 116937, 7846,...</td>\n",
       "      <td>[122886, 3052, 1407, 2161, 356, 1380, 4186, 81...</td>\n",
       "    </tr>\n",
       "    <tr>\n",
       "      <th>1652</th>\n",
       "      <td>[1029, 6, 4102, 1035, 2571, 78349, 1552, 15720...</td>\n",
       "      <td>[4993, 296, 2571, 4973, 1222, 2959, 1266, 912,...</td>\n",
       "      <td>[1270, 2571, 480, 593, 318, 1, 2716, 1198, 124...</td>\n",
       "      <td>[1597, 25822, 38038, 86244, 43419, 58154, 5880...</td>\n",
       "      <td>[1834, 736, 1049, 745, 783, 103688, 355, 15506...</td>\n",
       "    </tr>\n",
       "    <tr>\n",
       "      <th>1846</th>\n",
       "      <td>[69122, 26631, 6664, 1033, 4105, 2571, 55820, ...</td>\n",
       "      <td>[1198, 260, 2571, 1617, 7361, 923, 1233, 750, ...</td>\n",
       "      <td>[1270, 2571, 480, 593, 318, 1, 2716, 1198, 124...</td>\n",
       "      <td>[90960, 2471, 33834, 911, 69640, 368, 471, 558...</td>\n",
       "      <td>[808, 89864, 2387, 783, 1777, 35, 1479, 8195, ...</td>\n",
       "    </tr>\n",
       "    <tr>\n",
       "      <th>2313</th>\n",
       "      <td>[2050, 515, 1028, 1029, 1031, 4104, 2571, 4621...</td>\n",
       "      <td>[1196, 1284, 4993, 1204, 1221, 1272, 2571, 593...</td>\n",
       "      <td>[1270, 2571, 480, 593, 318, 1, 2716, 1198, 124...</td>\n",
       "      <td>[2174, 6442, 37733, 142503, 51937, 6287, 3489,...</td>\n",
       "      <td>[97921, 673, 2877, 319, 176, 1224, 3153, 2, 55...</td>\n",
       "    </tr>\n",
       "  </tbody>\n",
       "</table>\n",
       "</div>"
      ],
      "text/plain": [
       "                                                   actual  \\\n",
       "userId                                                      \n",
       "741     [122882, 3, 2052, 40966, 2058, 12, 106508, 206...   \n",
       "836     [2048, 40962, 2, 122886, 122892, 4118, 6166, 2...   \n",
       "1652    [1029, 6, 4102, 1035, 2571, 78349, 1552, 15720...   \n",
       "1846    [69122, 26631, 6664, 1033, 4105, 2571, 55820, ...   \n",
       "2313    [2050, 515, 1028, 1029, 1031, 4104, 2571, 4621...   \n",
       "\n",
       "                                           cf_predictions  \\\n",
       "userId                                                      \n",
       "741     [912, 1213, 1704, 6016, 1617, 48516, 1250, 367...   \n",
       "836     [1196, 750, 2571, 1208, 541, 46578, 1240, 1270...   \n",
       "1652    [4993, 296, 2571, 4973, 1222, 2959, 1266, 912,...   \n",
       "1846    [1198, 260, 2571, 1617, 7361, 923, 1233, 750, ...   \n",
       "2313    [1196, 1284, 4993, 1204, 1221, 1272, 2571, 593...   \n",
       "\n",
       "                                          pop_predictions  \\\n",
       "userId                                                      \n",
       "741     [1270, 2571, 480, 593, 318, 1, 2716, 1198, 124...   \n",
       "836     [1270, 2571, 480, 593, 318, 1, 2716, 1198, 124...   \n",
       "1652    [1270, 2571, 480, 593, 318, 1, 2716, 1198, 124...   \n",
       "1846    [1270, 2571, 480, 593, 318, 1, 2716, 1198, 124...   \n",
       "2313    [1270, 2571, 480, 593, 318, 1, 2716, 1198, 124...   \n",
       "\n",
       "                                       random_predictions  \\\n",
       "userId                                                      \n",
       "741     [3697, 91762, 5544, 1245, 2106, 6605, 33166, 7...   \n",
       "836     [93831, 2997, 99117, 42011, 150, 116937, 7846,...   \n",
       "1652    [1597, 25822, 38038, 86244, 43419, 58154, 5880...   \n",
       "1846    [90960, 2471, 33834, 911, 69640, 368, 471, 558...   \n",
       "2313    [2174, 6442, 37733, 142503, 51937, 6287, 3489,...   \n",
       "\n",
       "                                       gratio_predictions  \n",
       "userId                                                     \n",
       "741     [155064, 2551, 653, 2657, 2581, 2253, 115149, ...  \n",
       "836     [122886, 3052, 1407, 2161, 356, 1380, 4186, 81...  \n",
       "1652    [1834, 736, 1049, 745, 783, 103688, 355, 15506...  \n",
       "1846    [808, 89864, 2387, 783, 1777, 35, 1479, 8195, ...  \n",
       "2313    [97921, 673, 2877, 319, 176, 1224, 3153, 2, 55...  "
      ]
     },
     "execution_count": 23,
     "metadata": {},
     "output_type": "execute_result"
    }
   ],
   "source": [
    "test['gratio_predictions']=gratio_recs\n",
    "test.head()"
   ]
  },
  {
   "cell_type": "code",
   "execution_count": 24,
   "id": "08b7e68a",
   "metadata": {},
   "outputs": [],
   "source": [
    "actual = test.actual.values.tolist()\n",
    "cf_predictions = test.cf_predictions.values.tolist()\n",
    "pop_predictions = test.pop_predictions.values.tolist()\n",
    "random_predictions = test.random_predictions.values.tolist()\n",
    "gratio_predictions=test.gratio_predictions.values.tolist()"
   ]
  },
  {
   "cell_type": "code",
   "execution_count": 25,
   "id": "df8b50b5",
   "metadata": {},
   "outputs": [
    {
     "name": "stdout",
     "output_type": "stream",
     "text": [
      "Int64Index([     1,      2,      3,      4,      5,      6,      7,      8,\n",
      "                 9,     10,\n",
      "            ...\n",
      "            170907, 170937, 171631, 171759, 171763, 172547, 173145, 173209,\n",
      "            173941, 174055],\n",
      "           dtype='int64', name='movieId', length=8334)\n"
     ]
    }
   ],
   "source": [
    "print(movies.index)"
   ]
  },
  {
   "cell_type": "code",
   "execution_count": 33,
   "id": "b0e165b3",
   "metadata": {},
   "outputs": [
    {
     "name": "stdout",
     "output_type": "stream",
     "text": [
      "8334\n"
     ]
    }
   ],
   "source": [
    "\n",
    "# 실제 사람들이 본 영화 비율\n",
    "#print(\"cm:\",cm)\n",
    "cc=[]\n",
    "ggcm=cm.toarray()\n",
    "for i in range(0,len(ggcm)):\n",
    "    #print(i,\">> \",ggcm[i])\n",
    "    count=0\n",
    "    tc=[]\n",
    "    for j in ggcm[i]:\n",
    "        count+=j\n",
    "    #print(i,\"번째\", count)\n",
    "    for j in ggcm[i]:\n",
    "        tc.append(j/count)\n",
    "    cc.append(tc)\n",
    "\n",
    "#print(cc)\n",
    "\n",
    "#장르 개수를 세기위해 추가.\n",
    "gen=[]\n",
    "for cc in movies[movies.index==0]:\n",
    "    if cc not in gen:\n",
    "        gen.append(cc)\n",
    "\n",
    "gc=pd.DataFrame(None, columns=gen)\n",
    "\n",
    "## actual 데이터에서 gratio가 hit하는 비율\n",
    "actual_data=[]\n",
    "counta=[]\n",
    "for i in range(0,len(actual)):\n",
    "    #print(\"확인\", i, \"번째\")\n",
    "    temp=[]\n",
    "    cccc=0\n",
    "    for j in actual[i]:\n",
    "        temp.append(j)\n",
    "        cccc+=1\n",
    "    actual_data.append(j)\n",
    "    counta.append(cccc)\n",
    "gratio_data=[]\n",
    "hit_rate=[] #<- hit 비율\n",
    "genre_hitrate=[]\n",
    "for i in range(0, len(gratio_predictions)):\n",
    "    tmp1=[]\n",
    "    count=0\n",
    "    for j in gratio_predictions[i]:\n",
    "        if j in actual[i]:\n",
    "            #print(i,\"번째에 존재하는 영화\",j)\n",
    "            count+=1\n",
    "        tmp1.append(j)\n",
    "    \n",
    "    gratio_data.append(tmp1)\n",
    "    #print(i,\"번째 동일 개수\",count, counta[i])\n",
    "    #print(i,\"번째 비율:\",count/10) #test 셋이 추출되는 양이 때마다 다르기 때문에 10~20으로 한정하였다.\n",
    "    hit_rate.append([count, counta[i], count/10])\n",
    "\n",
    "print(len(movies))\n"
   ]
  },
  {
   "cell_type": "code",
   "execution_count": 28,
   "id": "02b91e03",
   "metadata": {},
   "outputs": [
    {
     "name": "stdout",
     "output_type": "stream",
     "text": [
      "  (no genres listed) Action Adventure Animation Children Comedy Crime  \\\n",
      "0                  2      3         1         0        2      6     1   \n",
      "1                  2      5         4         0        1      7     0   \n",
      "2                  1      6         1         1        1      6     0   \n",
      "3                  0      3         2         5        1      1     1   \n",
      "4                  0      3         3         1        1      6     0   \n",
      "5                  5      1         5         0        0      3     2   \n",
      "6                  0      6         2         3        0      1     2   \n",
      "7                  1      1         3         0        0      3     2   \n",
      "8                  5      2         1         0        0      4     2   \n",
      "9                  3      3         2         0        0      4     3   \n",
      "\n",
      "  Documentary Drama Fantasy Film-Noir Horror Musical Mystery Romance Sci-Fi  \\\n",
      "0           1     3       0         0      0       0       1       0      0   \n",
      "1           0     0       0         0      1       0       0       0      0   \n",
      "2           0     2       0         0      0       1       1       0      0   \n",
      "3           0     5       1         0      0       0       0       0      0   \n",
      "4           1     4       0         0      0       0       1       0      0   \n",
      "5           0     4       0         0      0       0       0       0      0   \n",
      "6           0     5       0         0      0       0       1       0      0   \n",
      "7           0     7       1         0      0       0       1       1      0   \n",
      "8           0     6       0         0      0       0       0       0      0   \n",
      "9           0     3       0         0      1       0       1       0      0   \n",
      "\n",
      "  Thriller War Western  \n",
      "0        0   0       0  \n",
      "1        0   0       0  \n",
      "2        0   0       0  \n",
      "3        0   0       1  \n",
      "4        0   0       0  \n",
      "5        0   0       0  \n",
      "6        0   0       0  \n",
      "7        0   0       0  \n",
      "8        0   0       0  \n",
      "9        0   0       0  \n"
     ]
    }
   ],
   "source": [
    "#단일//test로 뽑힌 영화 중 실제 사용자 시청한 장르 개수 세기.\n",
    "gen=[]\n",
    "for cc in movies[movies.index==0]:\n",
    "    if cc not in gen:\n",
    "        gen.append(cc)\n",
    "\n",
    "\n",
    "exception_data=[]\n",
    "cnts=pd.DataFrame(None, columns=gen)\n",
    "tt=[]\n",
    "for ii in gen:\n",
    "    tt.append(0)\n",
    "\n",
    "#print(cnts)\n",
    "\n",
    "for i in range(0,10):\n",
    "    cnts.loc[i]=tt\n",
    "    for j in actual[i][:20]:\n",
    "    #print(i,\"/\",j)\n",
    "        for cc in movies[movies.index==j]:\n",
    "            try: \n",
    "                if movies.loc[j][cc]==1:\n",
    "                    #print(cc,\":\",movies.loc[j][cc])\n",
    "                    cnts.loc[i][cc]=cnts.loc[i][cc]+1\n",
    "            except:\n",
    "                #print(j,\"번 정보가 없습니다.\")\n",
    "                exception_data.append(j)\n",
    "                cnts.loc[i]['(no genres listed)']+=1\n",
    "                break \n",
    "\n",
    "#cnts를 통해 i번째 사용자의 실제 시청 영화 장르의 개수를 센다.\n",
    "print(cnts)        \n",
    "           \n",
    "# 장르가 없는 데이터 리스트\n",
    "#print(exception_data)\n",
    "\n"
   ]
  },
  {
   "cell_type": "code",
   "execution_count": 34,
   "id": "23742083",
   "metadata": {},
   "outputs": [
    {
     "name": "stdout",
     "output_type": "stream",
     "text": [
      "  (no genres listed) Action Adventure Animation Children Comedy Crime  \\\n",
      "0                  0      2         0         1        0      4     0   \n",
      "1                  1      3         2         0        0      4     0   \n",
      "2                  0      2         0         2        1      1     2   \n",
      "3                  2      1         1         1        0      4     0   \n",
      "4                  0      3         2         0        0      3     1   \n",
      "5                  0      2         0         0        0      4     3   \n",
      "6                  0      2         0         0        0      3     2   \n",
      "7                  0      3         0         0        0      6     1   \n",
      "8                  0      1         0         1        1      3     1   \n",
      "9                  1      2         0         1        0      3     1   \n",
      "\n",
      "  Documentary Drama Fantasy Film-Noir Horror Musical Mystery Romance Sci-Fi  \\\n",
      "0           0     3       0         0      0       0       0       0      0   \n",
      "1           0     0       0         0      0       0       0       0      0   \n",
      "2           0     1       0         0      1       0       0       0      0   \n",
      "3           0     1       0         0      0       0       0       0      0   \n",
      "4           0     0       0         0      0       1       0       0      0   \n",
      "5           0     1       0         0      0       0       0       0      0   \n",
      "6           0     3       0         0      0       0       0       0      0   \n",
      "7           0     0       0         0      0       0       0       0      0   \n",
      "8           0     3       0         0      0       0       0       0      0   \n",
      "9           0     2       0         0      0       0       0       0      0   \n",
      "\n",
      "  Thriller War Western  \n",
      "0        0   0       0  \n",
      "1        0   0       0  \n",
      "2        0   0       0  \n",
      "3        0   0       0  \n",
      "4        0   0       0  \n",
      "5        0   0       0  \n",
      "6        0   0       0  \n",
      "7        0   0       0  \n",
      "8        0   0       0  \n",
      "9        0   0       0  \n"
     ]
    }
   ],
   "source": [
    "gen=[]\n",
    "for cc in movies[movies.index==0]:\n",
    "    if cc not in gen:\n",
    "        gen.append(cc)\n",
    "\n",
    "\n",
    "exception_data=[]\n",
    "gratio_predic=pd.DataFrame(None, columns=gen)\n",
    "tt=[]\n",
    "for ii in gen:\n",
    "    tt.append(0)\n",
    "\n",
    "#print(cnts)\n",
    "\n",
    "for i in range(0,10):\n",
    "    gratio_predic.loc[i]=tt\n",
    "    for j in gratio_predictions[i][:20]:\n",
    "    #print(i,\"/\",j)\n",
    "        for cc in movies[movies.index==j]:\n",
    "            try: \n",
    "                if movies.loc[j][cc]==1:\n",
    "                    #print(cc,\":\",movies.loc[j][cc])\n",
    "                    gratio_predic.loc[i][cc]=gratio_predic.loc[i][cc]+1\n",
    "            except:\n",
    "                #print(j,\"번 정보가 없습니다.\")\n",
    "                exception_data.append(j)\n",
    "                gratio_predic.loc[i]['(no genres listed)']+=1\n",
    "                break \n",
    "\n",
    "#cnts를 통해 i번째 사용자의 실제 시청 영화 장르의 개수를 센다.\n",
    "print(gratio_predic)        \n",
    "           \n",
    "# 장르가 없는 데이터 리스트\n",
    "#print(exception_data)\n",
    "\n"
   ]
  },
  {
   "cell_type": "code",
   "execution_count": 30,
   "id": "f0347f74",
   "metadata": {},
   "outputs": [
    {
     "name": "stdout",
     "output_type": "stream",
     "text": [
      "[[3, 601, 0.3], [2, 327, 0.2], [0, 258, 0.0], [1, 281, 0.1], [0, 260, 0.0], [0, 452, 0.0], [2, 361, 0.2], [1, 417, 0.1], [1, 256, 0.1], [1, 315, 0.1], [0, 283, 0.0], [3, 330, 0.3], [0, 354, 0.0], [1, 256, 0.1], [0, 274, 0.0], [0, 617, 0.0], [4, 530, 0.4], [1, 536, 0.1], [2, 693, 0.2], [3, 714, 0.3], [1, 265, 0.1], [0, 317, 0.0], [0, 725, 0.0], [1, 285, 0.1], [2, 487, 0.2], [2, 438, 0.2], [1, 333, 0.1], [2, 366, 0.2], [4, 302, 0.4], [0, 358, 0.0], [2, 310, 0.2], [2, 246, 0.2], [3, 313, 0.3], [0, 278, 0.0], [0, 328, 0.0], [1, 264, 0.1], [2, 221, 0.2], [1, 451, 0.1], [1, 269, 0.1], [1, 328, 0.1], [4, 2096, 0.4], [0, 514, 0.0], [1, 478, 0.1], [0, 251, 0.0], [0, 251, 0.0], [1, 492, 0.1], [2, 437, 0.2], [0, 281, 0.0], [1, 315, 0.1], [0, 438, 0.0], [1, 275, 0.1], [1, 265, 0.1], [1, 345, 0.1]]\n"
     ]
    },
    {
     "data": {
      "text/plain": [
       "[<matplotlib.lines.Line2D at 0x26c4f912f48>]"
      ]
     },
     "execution_count": 30,
     "metadata": {},
     "output_type": "execute_result"
    },
    {
     "data": {
      "image/png": "[encoded data removed]",
      "text/plain": [
       "<Figure size 432x288 with 1 Axes>"
      ]
     },
     "metadata": {
      "needs_background": "light"
     },
     "output_type": "display_data"
    }
   ],
   "source": [
    "# 추천 인덱스별 정확도 그래프 그리기\n",
    "print(hit_rate)\n",
    "x=np.arange(0,len(gratio_predictions))\n",
    "plt.plot(x, np.array(hit_rate)[:,2],'.')"
   ]
  },
  {
   "cell_type": "code",
   "execution_count": 35,
   "id": "d6cf07c2",
   "metadata": {},
   "outputs": [
    {
     "name": "stdout",
     "output_type": "stream",
     "text": [
      "[0.3, 0.2, 0.0, 0.1, 0.4]\n",
      "[4, 10, 17, 19, 3]\n"
     ]
    },
    {
     "data": {
      "text/plain": [
       "<BarContainer object of 5 artists>"
      ]
     },
     "execution_count": 35,
     "metadata": {},
     "output_type": "execute_result"
    },
    {
     "data": {
      "image/png": "[encoded data removed]",
      "text/plain": [
       "<Figure size 432x288 with 1 Axes>"
      ]
     },
     "metadata": {
      "needs_background": "light"
     },
     "output_type": "display_data"
    }
   ],
   "source": [
    "#비율 추천이 실제 시청영화와 맞는개수를 유저별로 카운트\n",
    "y=[]\n",
    "for hit in np.array(hit_rate)[:,2]:\n",
    "    if hit not in y:\n",
    "        y.append(hit)\n",
    "print(y)\n",
    "ratem=[]\n",
    "for rat in y:\n",
    "    ratem.append(np.array(hit_rate)[:,2].tolist().count(rat))\n",
    "print(ratem)\n",
    "plt.xlabel(' correct (%)')\n",
    "plt.ylabel(' user count')\n",
    "plt.bar(y,ratem, width=0.05,color=\"blue\")"
   ]
  },
  {
   "cell_type": "code",
   "execution_count": 36,
   "id": "e9d15f5f",
   "metadata": {},
   "outputs": [
    {
     "name": "stdout",
     "output_type": "stream",
     "text": [
      "  (no genres listed) Action Adventure Animation Children Comedy Crime  \\\n",
      "0                  0      4         0         1        0      7     0   \n",
      "1                  1      6         5         0        0      8     0   \n",
      "2                  0      7         0         2        2      7     1   \n",
      "3                  2      4         3         6        0      2     0   \n",
      "4                  0      4         4         0        0      7     1   \n",
      "5                  0      2         0         0        0      4     3   \n",
      "6                  0      7         0         0        0      2     3   \n",
      "7                  0      2         0         0        0      4     3   \n",
      "8                  0      3         0         1        1      5     3   \n",
      "9                  1      4         0         1        0      5     4   \n",
      "\n",
      "  Documentary Drama Fantasy Film-Noir Horror Musical Mystery Romance Sci-Fi  \\\n",
      "0           0     4       0         0      0       0       0       0      0   \n",
      "1           0     0       0         0      0       0       0       0      0   \n",
      "2           0     3       0         0      1       0       0       0      0   \n",
      "3           0     6       0         0      0       0       0       0      0   \n",
      "4           0     0       0         0      0       1       0       0      0   \n",
      "5           0     5       0         0      0       0       0       0      0   \n",
      "6           0     6       0         0      0       0       0       0      0   \n",
      "7           0     0       0         0      0       0       0       0      0   \n",
      "8           0     7       0         0      0       0       0       0      0   \n",
      "9           0     4       0         0      0       0       0       0      0   \n",
      "\n",
      "  Thriller War Western  \n",
      "0        0   0       0  \n",
      "1        0   0       0  \n",
      "2        0   0       0  \n",
      "3        0   0       0  \n",
      "4        0   0       0  \n",
      "5        0   0       0  \n",
      "6        0   0       0  \n",
      "7        0   0       0  \n",
      "8        0   0       0  \n",
      "9        0   0       0  \n"
     ]
    }
   ],
   "source": [
    "\n",
    "#단일//비율 추천으로 추천한 영화들의 장르 개수 세기\n",
    "genrehit_rate=[]\n",
    "cnts_gratio=pd.DataFrame(None, columns=gen)\n",
    "\n",
    "#for i in range(0,10):\n",
    "#cnts_gratio.loc[0]=tt\n",
    "#print(cnts_gratio)\n",
    "for i in range(0, 10):\n",
    "    cnts_gratio.loc[i]=tt\n",
    "    for j in gratio_predictions[i]:\n",
    "        for cc in movies[movies.index==j]:\n",
    "            try: \n",
    "                if movies.loc[j][cc]==1:\n",
    "                    #print(cc,\":\",movies.loc[j][cc])\n",
    "                    cnts_gratio.loc[i][cc]=cnts.loc[i][cc]+1\n",
    "            except:\n",
    "                #print(j,\"번 정보가 없습니다.\")\n",
    "                exception_data.append(j)\n",
    "                cnts_gratio.loc[i]['(no genres listed)']+=1\n",
    "                break\n",
    "\n",
    "print(cnts_gratio)\n",
    "#for it in range(0,10):\n",
    "    #print(cnts_gratio.iloc[it])\n"
   ]
  },
  {
   "cell_type": "code",
   "execution_count": 37,
   "id": "5d0b6550",
   "metadata": {},
   "outputs": [
    {
     "name": "stdout",
     "output_type": "stream",
     "text": [
      "0    3\n",
      "1    5\n",
      "2    6\n",
      "3    3\n",
      "4    3\n",
      "5    1\n",
      "6    6\n",
      "7    1\n",
      "8    2\n",
      "9    3\n",
      "Name: Action, dtype: object\n"
     ]
    },
    {
     "data": {
      "text/plain": [
       "[<matplotlib.lines.Line2D at 0x26c4f9d3c08>]"
      ]
     },
     "execution_count": 37,
     "metadata": {},
     "output_type": "execute_result"
    },
    {
     "data": {
      "image/png": "[encoded data removed]",
      "text/plain": [
       "<Figure size 432x288 with 1 Axes>"
      ]
     },
     "metadata": {
      "needs_background": "light"
     },
     "output_type": "display_data"
    }
   ],
   "source": [
    "# 사용자와 장르의 그래프\n",
    "print(cnts['Action'])\n",
    "\n",
    "plt.plot(range(0,10), cnts[:]['Action'])\n",
    "plt.plot(range(0,10), cnts_gratio[:]['Action'])"
   ]
  },
  {
   "cell_type": "code",
   "execution_count": null,
   "id": "c390b061",
   "metadata": {},
   "outputs": [],
   "source": []
  },
  {
   "cell_type": "code",
   "execution_count": 38,
   "id": "937bd015",
   "metadata": {},
   "outputs": [],
   "source": [
    "#그래프를 위해 새로 데이터 생성.\n",
    "gen=[]\n",
    "for cc in movies[movies.index==0]:\n",
    "    if cc not in gen:\n",
    "        gen.append(cc)\n",
    "        \n",
    "movies = pd.read_csv('D:/2021 파일들/1학기 과제 파일들/캡스톤/data/moviedbs.csv')\n",
    "movies = movies.query('movieId in @rated_movies')\n",
    "\n",
    "movies.drop_duplicates(\"movieId\", inplace=True)\n",
    "movies.set_index(\"movieId\", inplace=True, drop=True)\n",
    "\n",
    "mmo=movies\n",
    "\n",
    "def setGenresMatrix_0(genres,gen):\n",
    "    movieGenresMatrix = []\n",
    "    movieGenresList = genres.split('|')\n",
    "    for x in gen:\n",
    "        if (x in movieGenresList):\n",
    "            movieGenresMatrix.append(1)\n",
    "        else:\n",
    "            movieGenresMatrix.append(0) \n",
    "    return movieGenresMatrix\n",
    "mmo['genresMatrix'] = movies.apply(lambda x: np.array(list(setGenresMatrix_0(x['genres'],gen))), axis=1)"
   ]
  },
  {
   "cell_type": "code",
   "execution_count": 39,
   "id": "f8584c31",
   "metadata": {},
   "outputs": [
    {
     "name": "stdout",
     "output_type": "stream",
     "text": [
      "movieId\n",
      "1         [0, 0, 1, 1, 1, 1, 0, 0, 0, 1, 0, 0, 0, 0, 0, ...\n",
      "2         [0, 0, 1, 0, 1, 0, 0, 0, 0, 1, 0, 0, 0, 0, 0, ...\n",
      "3         [0, 0, 0, 0, 0, 1, 0, 0, 0, 0, 0, 0, 0, 0, 1, ...\n",
      "4         [0, 0, 0, 0, 0, 1, 0, 0, 1, 0, 0, 0, 0, 0, 1, ...\n",
      "5         [0, 0, 0, 0, 0, 1, 0, 0, 0, 0, 0, 0, 0, 0, 0, ...\n",
      "                                ...                        \n",
      "172547    [0, 0, 1, 1, 1, 1, 0, 0, 0, 0, 0, 0, 0, 0, 0, ...\n",
      "173145    [0, 1, 1, 0, 0, 0, 0, 0, 1, 0, 0, 0, 0, 0, 0, ...\n",
      "173209    [0, 0, 0, 0, 0, 1, 0, 0, 1, 0, 0, 0, 0, 0, 0, ...\n",
      "173941    [0, 0, 0, 0, 0, 0, 0, 0, 0, 0, 0, 0, 0, 0, 0, ...\n",
      "174055    [0, 1, 0, 0, 0, 0, 0, 0, 1, 0, 0, 0, 0, 0, 0, ...\n",
      "Name: genresMatrix, Length: 8334, dtype: object\n"
     ]
    }
   ],
   "source": [
    "print(mmo['genresMatrix'])"
   ]
  },
  {
   "cell_type": "code",
   "execution_count": 40,
   "id": "0368a969",
   "metadata": {},
   "outputs": [
    {
     "name": "stdout",
     "output_type": "stream",
     "text": [
      "Empty DataFrame\n",
      "Columns: [(no genres listed), Action, Adventure, Animation, Children, Comedy, Crime, Documentary, Drama, Fantasy, Film-Noir, Horror, Musical, Mystery, Romance, Sci-Fi, Thriller, War, Western]\n",
      "Index: []\n",
      "  (no genres listed) Action Adventure Animation Children Comedy Crime  \\\n",
      "0                  7      5         3         3        1      0     0   \n",
      "1                  6      5         4         2        0      0     0   \n",
      "2                 14     11         6         3        1      0     0   \n",
      "3                 20     18        12         5        2      0     0   \n",
      "4                 20     17        11         3        0      0     0   \n",
      "5                  7      6         2         0        0      0     0   \n",
      "6                 20     17        14         7        3      0     0   \n",
      "7                  9      7         5         1        1      0     0   \n",
      "8                  4      3         1         1        0      0     0   \n",
      "9                 10      8         7         4        0      0     0   \n",
      "\n",
      "  Documentary Drama Fantasy Film-Noir Horror Musical Mystery Romance Sci-Fi  \\\n",
      "0           0     0       0         0      0       0       0       0      0   \n",
      "1           0     0       0         0      0       0       0       0      0   \n",
      "2           0     0       0         0      0       0       0       0      0   \n",
      "3           0     0       0         0      0       0       0       0      0   \n",
      "4           0     0       0         0      0       0       0       0      0   \n",
      "5           0     0       0         0      0       0       0       0      0   \n",
      "6           0     0       0         0      0       0       0       0      0   \n",
      "7           0     0       0         0      0       0       0       0      0   \n",
      "8           0     0       0         0      0       0       0       0      0   \n",
      "9           0     0       0         0      0       0       0       0      0   \n",
      "\n",
      "  Thriller War Western  \n",
      "0        0   0       0  \n",
      "1        0   0       0  \n",
      "2        0   0       0  \n",
      "3        0   0       0  \n",
      "4        0   0       0  \n",
      "5        0   0       0  \n",
      "6        0   0       0  \n",
      "7        0   0       0  \n",
      "8        0   0       0  \n",
      "9        0   0       0  \n"
     ]
    }
   ],
   "source": [
    "#복수//test로 뽑힌 영화 중 실제 사용자 시청한 장르 개수 세기.\n",
    "\n",
    "\n",
    "\n",
    "exception_data=[]\n",
    "cnts=pd.DataFrame(None, columns=gen)\n",
    "tt=[]\n",
    "for ii in gen:\n",
    "    tt.append(0)\n",
    "\n",
    "print(cnts)\n",
    "\n",
    "for i in range(0,10):\n",
    "    cnts.loc[i]=tt\n",
    "    for j in actual[i][:20]:\n",
    "        #print(i,\"/\",j)\n",
    "        #print(mmo.loc[j]['genresMatrix'])\n",
    "        count=0\n",
    "        try:\n",
    "            for cc in mmo.loc[j]['genresMatrix']:\n",
    "                if cc==1:\n",
    "                    #print(cc,\":\",movies.loc[j][cc])\n",
    "                    cnts.loc[i][count]=cnts.loc[i][count]+1\n",
    "                    count+=1\n",
    "                elif cc==0:\n",
    "                    continue\n",
    "        except:\n",
    "            #print(j,\"번 정보가 없습니다.\")\n",
    "            #exception_data.append(j)\n",
    "            cnts.loc[i]['(no genres listed)']=cnts.loc[i]['(no genres listed)']+1\n",
    "            break\n",
    "                \n",
    "\n",
    "#cnts를 통해 i번째 사용자의 실제 시청 영화 장르의 개수를 센다.\n",
    "print(cnts)        \n",
    "           \n",
    "# 장르가 없는 데이터 리스트\n",
    "#print(exception_data)\n",
    "\n"
   ]
  },
  {
   "cell_type": "code",
   "execution_count": 41,
   "id": "2330f538",
   "metadata": {},
   "outputs": [
    {
     "name": "stdout",
     "output_type": "stream",
     "text": [
      "Empty DataFrame\n",
      "Columns: [(no genres listed), Action, Adventure, Animation, Children, Comedy, Crime, Documentary, Drama, Fantasy, Film-Noir, Horror, Musical, Mystery, Romance, Sci-Fi, Thriller, War, Western]\n",
      "Index: []\n",
      "  (no genres listed) Action Adventure Animation Children Comedy Crime  \\\n",
      "0                 10     10         5         2        0      0     0   \n",
      "1                  7      6         6         3        0      0     0   \n",
      "2                 10      9         6         3        1      0     0   \n",
      "3                  6      5         1         1        1      0     0   \n",
      "4                 10      8         6         3        1      1     0   \n",
      "5                 10      9         4         2        0      0     0   \n",
      "6                 10      9         4         1        0      0     0   \n",
      "7                 10     10         5         1        0      0     0   \n",
      "8                 10      9         6         1        0      0     0   \n",
      "9                  4      1         1         0        0      0     0   \n",
      "\n",
      "  Documentary Drama Fantasy Film-Noir Horror Musical Mystery Romance Sci-Fi  \\\n",
      "0           0     0       0         0      0       0       0       0      0   \n",
      "1           0     0       0         0      0       0       0       0      0   \n",
      "2           0     0       0         0      0       0       0       0      0   \n",
      "3           0     0       0         0      0       0       0       0      0   \n",
      "4           0     0       0         0      0       0       0       0      0   \n",
      "5           0     0       0         0      0       0       0       0      0   \n",
      "6           0     0       0         0      0       0       0       0      0   \n",
      "7           0     0       0         0      0       0       0       0      0   \n",
      "8           0     0       0         0      0       0       0       0      0   \n",
      "9           0     0       0         0      0       0       0       0      0   \n",
      "\n",
      "  Thriller War Western  \n",
      "0        0   0       0  \n",
      "1        0   0       0  \n",
      "2        0   0       0  \n",
      "3        0   0       0  \n",
      "4        0   0       0  \n",
      "5        0   0       0  \n",
      "6        0   0       0  \n",
      "7        0   0       0  \n",
      "8        0   0       0  \n",
      "9        0   0       0  \n"
     ]
    }
   ],
   "source": [
    "\n",
    "#복수//비율 추천으로 추천한 영화들의 장르 개수 세기\n",
    "genrehit_rate=[]\n",
    "cnts_gratio=pd.DataFrame(None, columns=gen)\n",
    "print(cnts_gratio)\n",
    "for i in range(0, 10):\n",
    "    cnts_gratio.loc[i]=tt\n",
    "    for j in gratio_predictions[i]:\n",
    "        count=0\n",
    "        try:\n",
    "            for cc in mmo.loc[j]['genresMatrix']:\n",
    "                if cc==1:\n",
    "                    #print(cc,\":\",movies.loc[j][cc])\n",
    "                    cnts_gratio.loc[i][count]=cnts_gratio.loc[i][count]+1\n",
    "                    count+=1\n",
    "        except:\n",
    "            #print(j,\"번 정보가 없습니다.\")\n",
    "            #exception_data.append(j)\n",
    "            cnts_gratio.loc[i]['(no genres listed)']=cnts_gratio.loc[i]['(no genres listed)']+1\n",
    "            break\n",
    "\n",
    "print(cnts_gratio)\n",
    "#for it in range(0,10):\n",
    "    #print(cnts_gratio.iloc[it])\n"
   ]
  },
  {
   "cell_type": "code",
   "execution_count": 42,
   "id": "4f190694",
   "metadata": {},
   "outputs": [
    {
     "name": "stdout",
     "output_type": "stream",
     "text": [
      "0     5\n",
      "1     5\n",
      "2    11\n",
      "3    18\n",
      "4    17\n",
      "5     6\n",
      "6    17\n",
      "7     7\n",
      "8     3\n",
      "9     8\n",
      "Name: Action, dtype: object 0    10\n",
      "1     6\n",
      "2     9\n",
      "3     5\n",
      "4     8\n",
      "5     9\n",
      "6     9\n",
      "7    10\n",
      "8     9\n",
      "9     1\n",
      "Name: Action, dtype: object\n"
     ]
    },
    {
     "data": {
      "text/plain": [
       "<matplotlib.legend.Legend at 0x26c4fb6f648>"
      ]
     },
     "execution_count": 42,
     "metadata": {},
     "output_type": "execute_result"
    },
    {
     "data": {
      "image/png": "[encoded data removed]",
      "text/plain": [
       "<Figure size 432x288 with 1 Axes>"
      ]
     },
     "metadata": {
      "needs_background": "light"
     },
     "output_type": "display_data"
    }
   ],
   "source": [
    "# 사용자와 장르의 그래프\n",
    "print(cnts['Action'],cnts_gratio['Action'])\n",
    "plt.ylim(0,25)\n",
    "plt.xlabel('userId')\n",
    "plt.ylabel('Action_movie_count')\n",
    "plt.plot(range(0,10), cnts[:]['Action'])\n",
    "plt.plot(range(0,10), cnts_gratio[:]['Action'])\n",
    "plt.legend(['actual','gratio_recommed'])"
   ]
  },
  {
   "cell_type": "code",
   "execution_count": 43,
   "id": "25e0c747",
   "metadata": {},
   "outputs": [
    {
     "name": "stdout",
     "output_type": "stream",
     "text": [
      "(no genres listed) 장르에 대해서..\n",
      "0.35  vs  0.5263157894736842\n",
      "0.3  vs  0.3684210526315789\n",
      "0.7  vs  0.5263157894736842\n",
      "1.0  vs  0.3157894736842105\n",
      "1.0  vs  0.5263157894736842\n",
      "0.35  vs  0.5263157894736842\n",
      "1.0  vs  0.5263157894736842\n",
      "0.45  vs  0.5263157894736842\n",
      "0.2  vs  0.5263157894736842\n",
      "0.5  vs  0.21052631578947367\n",
      "Action 장르에 대해서..\n",
      "0.25  vs  0.5263157894736842\n",
      "0.25  vs  0.3157894736842105\n",
      "0.55  vs  0.47368421052631576\n",
      "0.9  vs  0.2631578947368421\n",
      "0.85  vs  0.42105263157894735\n",
      "0.3  vs  0.47368421052631576\n",
      "0.85  vs  0.47368421052631576\n",
      "0.35  vs  0.5263157894736842\n",
      "0.15  vs  0.47368421052631576\n",
      "0.4  vs  0.05263157894736842\n",
      "Adventure 장르에 대해서..\n",
      "0.15  vs  0.2631578947368421\n",
      "0.2  vs  0.3157894736842105\n",
      "0.3  vs  0.3157894736842105\n",
      "0.6  vs  0.05263157894736842\n",
      "0.55  vs  0.3157894736842105\n",
      "0.1  vs  0.21052631578947367\n",
      "0.7  vs  0.21052631578947367\n",
      "0.25  vs  0.2631578947368421\n",
      "0.05  vs  0.3157894736842105\n",
      "0.35  vs  0.05263157894736842\n",
      "Animation 장르에 대해서..\n",
      "0.15  vs  0.10526315789473684\n",
      "0.1  vs  0.15789473684210525\n",
      "0.15  vs  0.15789473684210525\n",
      "0.25  vs  0.05263157894736842\n",
      "0.15  vs  0.15789473684210525\n",
      "0.0  vs  0.10526315789473684\n",
      "0.35  vs  0.05263157894736842\n",
      "0.05  vs  0.05263157894736842\n",
      "0.05  vs  0.05263157894736842\n",
      "0.2  vs  0.0\n",
      "Children 장르에 대해서..\n",
      "0.05  vs  0.0\n",
      "0.0  vs  0.0\n",
      "0.05  vs  0.05263157894736842\n",
      "0.1  vs  0.05263157894736842\n",
      "0.0  vs  0.05263157894736842\n",
      "0.0  vs  0.0\n",
      "0.15  vs  0.0\n",
      "0.05  vs  0.0\n",
      "0.0  vs  0.0\n",
      "0.0  vs  0.0\n",
      "Comedy 장르에 대해서..\n",
      "0.0  vs  0.0\n",
      "0.0  vs  0.0\n",
      "0.0  vs  0.0\n",
      "0.0  vs  0.0\n",
      "0.0  vs  0.05263157894736842\n",
      "0.0  vs  0.0\n",
      "0.0  vs  0.0\n",
      "0.0  vs  0.0\n",
      "0.0  vs  0.0\n",
      "0.0  vs  0.0\n",
      "Crime 장르에 대해서..\n",
      "0.0  vs  0.0\n",
      "0.0  vs  0.0\n",
      "0.0  vs  0.0\n",
      "0.0  vs  0.0\n",
      "0.0  vs  0.0\n",
      "0.0  vs  0.0\n",
      "0.0  vs  0.0\n",
      "0.0  vs  0.0\n",
      "0.0  vs  0.0\n",
      "0.0  vs  0.0\n",
      "Documentary 장르에 대해서..\n",
      "0.0  vs  0.0\n",
      "0.0  vs  0.0\n",
      "0.0  vs  0.0\n",
      "0.0  vs  0.0\n",
      "0.0  vs  0.0\n",
      "0.0  vs  0.0\n",
      "0.0  vs  0.0\n",
      "0.0  vs  0.0\n",
      "0.0  vs  0.0\n",
      "0.0  vs  0.0\n",
      "Drama 장르에 대해서..\n",
      "0.0  vs  0.0\n",
      "0.0  vs  0.0\n",
      "0.0  vs  0.0\n",
      "0.0  vs  0.0\n",
      "0.0  vs  0.0\n",
      "0.0  vs  0.0\n",
      "0.0  vs  0.0\n",
      "0.0  vs  0.0\n",
      "0.0  vs  0.0\n",
      "0.0  vs  0.0\n",
      "Fantasy 장르에 대해서..\n",
      "0.0  vs  0.0\n",
      "0.0  vs  0.0\n",
      "0.0  vs  0.0\n",
      "0.0  vs  0.0\n",
      "0.0  vs  0.0\n",
      "0.0  vs  0.0\n",
      "0.0  vs  0.0\n",
      "0.0  vs  0.0\n",
      "0.0  vs  0.0\n",
      "0.0  vs  0.0\n",
      "Film-Noir 장르에 대해서..\n",
      "0.0  vs  0.0\n",
      "0.0  vs  0.0\n",
      "0.0  vs  0.0\n",
      "0.0  vs  0.0\n",
      "0.0  vs  0.0\n",
      "0.0  vs  0.0\n",
      "0.0  vs  0.0\n",
      "0.0  vs  0.0\n",
      "0.0  vs  0.0\n",
      "0.0  vs  0.0\n",
      "Horror 장르에 대해서..\n",
      "0.0  vs  0.0\n",
      "0.0  vs  0.0\n",
      "0.0  vs  0.0\n",
      "0.0  vs  0.0\n",
      "0.0  vs  0.0\n",
      "0.0  vs  0.0\n",
      "0.0  vs  0.0\n",
      "0.0  vs  0.0\n",
      "0.0  vs  0.0\n",
      "0.0  vs  0.0\n",
      "Musical 장르에 대해서..\n",
      "0.0  vs  0.0\n",
      "0.0  vs  0.0\n",
      "0.0  vs  0.0\n",
      "0.0  vs  0.0\n",
      "0.0  vs  0.0\n",
      "0.0  vs  0.0\n",
      "0.0  vs  0.0\n",
      "0.0  vs  0.0\n",
      "0.0  vs  0.0\n",
      "0.0  vs  0.0\n",
      "Mystery 장르에 대해서..\n",
      "0.0  vs  0.0\n",
      "0.0  vs  0.0\n",
      "0.0  vs  0.0\n",
      "0.0  vs  0.0\n",
      "0.0  vs  0.0\n",
      "0.0  vs  0.0\n",
      "0.0  vs  0.0\n",
      "0.0  vs  0.0\n",
      "0.0  vs  0.0\n",
      "0.0  vs  0.0\n",
      "Romance 장르에 대해서..\n",
      "0.0  vs  0.0\n",
      "0.0  vs  0.0\n",
      "0.0  vs  0.0\n",
      "0.0  vs  0.0\n",
      "0.0  vs  0.0\n",
      "0.0  vs  0.0\n",
      "0.0  vs  0.0\n",
      "0.0  vs  0.0\n",
      "0.0  vs  0.0\n",
      "0.0  vs  0.0\n",
      "Sci-Fi 장르에 대해서..\n",
      "0.0  vs  0.0\n",
      "0.0  vs  0.0\n",
      "0.0  vs  0.0\n",
      "0.0  vs  0.0\n",
      "0.0  vs  0.0\n",
      "0.0  vs  0.0\n",
      "0.0  vs  0.0\n",
      "0.0  vs  0.0\n",
      "0.0  vs  0.0\n",
      "0.0  vs  0.0\n",
      "Thriller 장르에 대해서..\n",
      "0.0  vs  0.0\n",
      "0.0  vs  0.0\n",
      "0.0  vs  0.0\n",
      "0.0  vs  0.0\n",
      "0.0  vs  0.0\n",
      "0.0  vs  0.0\n",
      "0.0  vs  0.0\n",
      "0.0  vs  0.0\n",
      "0.0  vs  0.0\n",
      "0.0  vs  0.0\n",
      "War 장르에 대해서..\n",
      "0.0  vs  0.0\n",
      "0.0  vs  0.0\n",
      "0.0  vs  0.0\n",
      "0.0  vs  0.0\n",
      "0.0  vs  0.0\n",
      "0.0  vs  0.0\n",
      "0.0  vs  0.0\n",
      "0.0  vs  0.0\n",
      "0.0  vs  0.0\n",
      "0.0  vs  0.0\n",
      "Western 장르에 대해서..\n",
      "0.0  vs  0.0\n",
      "0.0  vs  0.0\n",
      "0.0  vs  0.0\n",
      "0.0  vs  0.0\n",
      "0.0  vs  0.0\n",
      "0.0  vs  0.0\n",
      "0.0  vs  0.0\n",
      "0.0  vs  0.0\n",
      "0.0  vs  0.0\n",
      "0.0  vs  0.0\n"
     ]
    }
   ],
   "source": [
    "# 실제 시청 영화의 장르의 비율과 추천 장르의 비율 비교\n",
    "for cc in gen:\n",
    "    print(cc,\"장르에 대해서..\")\n",
    "    for x in range(0,10):\n",
    "        print(cnts.loc[x][cc]/20,\" vs \", cnts_gratio.loc[x][cc]/cnts_gratio.loc[x].size)\n",
    "    \n",
    "#plt.pie(range(0,))"
   ]
  },
  {
   "cell_type": "code",
   "execution_count": 44,
   "id": "3fa85406",
   "metadata": {},
   "outputs": [
    {
     "name": "stdout",
     "output_type": "stream",
     "text": [
      "0     3\n",
      "1     4\n",
      "2     6\n",
      "3    12\n",
      "4    11\n",
      "5     2\n",
      "6    14\n",
      "7     5\n",
      "8     1\n",
      "9     7\n",
      "Name: Adventure, dtype: object 0    5\n",
      "1    6\n",
      "2    6\n",
      "3    1\n",
      "4    6\n",
      "5    4\n",
      "6    4\n",
      "7    5\n",
      "8    6\n",
      "9    1\n",
      "Name: Adventure, dtype: object\n"
     ]
    },
    {
     "data": {
      "text/plain": [
       "<matplotlib.legend.Legend at 0x26c4fbed288>"
      ]
     },
     "execution_count": 44,
     "metadata": {},
     "output_type": "execute_result"
    },
    {
     "data": {
      "image/png": "[encoded data removed]",
      "text/plain": [
       "<Figure size 432x288 with 1 Axes>"
      ]
     },
     "metadata": {
      "needs_background": "light"
     },
     "output_type": "display_data"
    }
   ],
   "source": [
    "# 사용자와 장르의 그래프\n",
    "print(cnts['Adventure'],cnts_gratio['Adventure'])\n",
    "plt.ylim(0,20)\n",
    "plt.xlabel('userId')\n",
    "plt.ylabel('Adventure_movie_count')\n",
    "plt.plot(range(0,10), cnts[:]['Adventure'])\n",
    "plt.plot(range(0,10), cnts_gratio[:]['Adventure'])\n",
    "plt.legend(['actual','gratio_recommed'])"
   ]
  },
  {
   "cell_type": "code",
   "execution_count": null,
   "id": "2d480989",
   "metadata": {},
   "outputs": [],
   "source": [
    "pop_mark = []\n",
    "for K in np.arange(1, 11):\n",
    "    pop_mark.extend([recmetrics.mark(actual, pop_predictions, k=K)])\n",
    "pop_mark"
   ]
  },
  {
   "cell_type": "code",
   "execution_count": null,
   "id": "013b3208",
   "metadata": {},
   "outputs": [],
   "source": [
    "random_mark = []\n",
    "for K in np.arange(1, 11):\n",
    "    random_mark.extend([recmetrics.mark(actual, random_predictions, k=K)])\n",
    "random_mark"
   ]
  },
  {
   "cell_type": "code",
   "execution_count": null,
   "id": "be9b45a4",
   "metadata": {
    "scrolled": true
   },
   "outputs": [],
   "source": [
    "cf_mark = []\n",
    "for K in np.arange(1, 11):\n",
    "    cf_mark.extend([recmetrics.mark(actual, cf_predictions, k=K)])\n",
    "cf_mark"
   ]
  },
  {
   "cell_type": "code",
   "execution_count": null,
   "id": "87d76822",
   "metadata": {},
   "outputs": [],
   "source": [
    "gr_mark=[]\n",
    "for K in np.arange(1, 11):\n",
    "    gr_mark.extend([recmetrics.mark(actual, gratio_predictions, k=K)])\n",
    "gr_mark"
   ]
  },
  {
   "cell_type": "code",
   "execution_count": null,
   "id": "99ecd5c4",
   "metadata": {
    "scrolled": true
   },
   "outputs": [],
   "source": [
    "#마땅히 검출해야하는 물체들 중에서 제대로 검출된 것의 비율\n",
    "mark_scores = [random_mark, pop_mark, cf_mark,gr_mark]\n",
    "index = range(1,10+1)\n",
    "names = ['Random Recommender', 'Popularity Recommender', 'Collaborative Filter','Gratio Recommender']\n",
    "\n",
    "fig = plt.figure(figsize=(15, 7))\n",
    "recmetrics.mark_plot(mark_scores, model_names=names, k_range=index)"
   ]
  },
  {
   "cell_type": "code",
   "execution_count": null,
   "id": "0fb50491",
   "metadata": {},
   "outputs": [],
   "source": [
    "catalog = ratings.movieId.unique().tolist()\n",
    "random_coverage = recmetrics.prediction_coverage(ran_recs, catalog)\n",
    "pop_coverage = recmetrics.prediction_coverage(pop_recs, catalog)\n",
    "cf_coverage = recmetrics.prediction_coverage(cf_recs, catalog)\n",
    "gr_coverage=recmetrics.prediction_coverage(gratio_recs, catalog)"
   ]
  },
  {
   "cell_type": "code",
   "execution_count": null,
   "id": "66376a3a",
   "metadata": {
    "scrolled": true
   },
   "outputs": [],
   "source": [
    "#plot of prediction coverage 추천시스템이 추천을 해주는 비율\n",
    "coverage_scores = [random_coverage, pop_coverage, cf_coverage, gr_coverage]\n",
    "model_names = ['Random Recommender', 'Popularity Recommender', 'Collaborative Filter','Gratio Recommender']\n",
    "\n",
    "fig = plt.figure(figsize=(7, 5))\n",
    "recmetrics.coverage_plot(coverage_scores, model_names)"
   ]
  },
  {
   "cell_type": "code",
   "execution_count": null,
   "id": "063c5c51",
   "metadata": {},
   "outputs": [],
   "source": [
    "nov = ratings.movieId.value_counts()\n",
    "pop = dict(nov)"
   ]
  },
  {
   "cell_type": "code",
   "execution_count": null,
   "id": "669caba6",
   "metadata": {
    "scrolled": true
   },
   "outputs": [],
   "source": [
    "compare_pred_df=pd.DataFrame(compare)\n",
    "recmetrics.class_separation_plot(compare_pred_df, n_bins=45, title=\"gratio movies compare\")\n",
    "       \n",
    "            \n",
    "            \n",
    "\n",
    "      \n"
   ]
  },
  {
   "cell_type": "code",
   "execution_count": null,
   "id": "697df970",
   "metadata": {},
   "outputs": [],
   "source": [
    "print(mdb)"
   ]
  },
  {
   "cell_type": "code",
   "execution_count": null,
   "id": "dc33b7f5",
   "metadata": {},
   "outputs": [],
   "source": [
    "idx=list(range(21437))\n",
    "mdb['index']=idx"
   ]
  },
  {
   "cell_type": "code",
   "execution_count": null,
   "id": "02ae3f6f",
   "metadata": {},
   "outputs": [],
   "source": [
    "print(mdb)"
   ]
  },
  {
   "cell_type": "code",
   "execution_count": null,
   "id": "708b323c",
   "metadata": {},
   "outputs": [],
   "source": [
    "compare2=[]\n",
    "for i in mdb['index']:\n",
    "    \n",
    "    modb=mdb[mdb['index']==i]\n",
    "    ac=modb.iloc[0]['actual']\n",
    "    cf=modb.iloc[0]['cf_predictions']\n",
    "    \n",
    "    if cf>=ac:\n",
    "        dic=dict()\n",
    "        dic['predicted']=cf\n",
    "        dic['truth']=1\n",
    "        compare2.append(dic)\n",
    "    else:\n",
    "        dic=dict()\n",
    "        dic['predicted']=cf\n",
    "        dic['truth']=0\n",
    "        compare2.append(dic)\n",
    "\n",
    "print(compare2)\n",
    "        \n",
    "        \n",
    "    "
   ]
  },
  {
   "cell_type": "code",
   "execution_count": null,
   "id": "6a74502f",
   "metadata": {},
   "outputs": [],
   "source": [
    "compare_pred_df=pd.DataFrame(compare2)\n",
    "recmetrics.class_separation_plot(compare_pred_df, n_bins=45, title=\"comparing ac and cf\")"
   ]
  },
  {
   "cell_type": "code",
   "execution_count": null,
   "id": "80a5a7ae",
   "metadata": {},
   "outputs": [],
   "source": []
  },
  {
   "cell_type": "code",
   "execution_count": null,
   "id": "0fecd2d7",
   "metadata": {},
   "outputs": [],
   "source": [
    "gratio_recs=[]\n",
    "mo=pd.read_csv('D:/2021 파일들/1학기 과제 파일들/캡스톤/data/moviedbs.csv')\n",
    "mo.query('movieId in @rated_movies')\n",
    "\n",
    "\n",
    "\n",
    "print(mo)\n"
   ]
  },
  {
   "cell_type": "code",
   "execution_count": null,
   "id": "57904944",
   "metadata": {},
   "outputs": [],
   "source": []
  },
  {
   "cell_type": "code",
   "execution_count": null,
   "id": "738db04f",
   "metadata": {},
   "outputs": [],
   "source": [
    "gratio_recs2=[]\n",
    "genre_recs=[]\n",
    "for i in range(0,len(person)):\n",
    "    gratio=[]\n",
    "    gen=[]\n",
    "    for user_id in person[i]:\n",
    "        gratio_prediction=rate[rate['userId']==user_id-1]\n",
    "        gratio_prediction=gratio_prediction.sort_values(by=['timestamp'], axis=0,ascending=False )\n",
    "        gratio_prediction=gratio_prediction.iloc[0][\"movieId\"]\n",
    "        mov=mo[mo['movieId']==gratio_prediction]\n",
    "        for x in mov['genres']:\n",
    "            \n",
    "            gen.append(x)\n",
    "        gratio.append(gratio_prediction)\n",
    "    \n",
    "    genre_recs.append(gen)\n",
    "        \n",
    "        \n",
    "    gratio_recs2.append(gratio)"
   ]
  },
  {
   "cell_type": "code",
   "execution_count": null,
   "id": "e18af8e6",
   "metadata": {},
   "outputs": [],
   "source": [
    "print(genre_recs)\n",
    "print(gratio_recs2)"
   ]
  },
  {
   "cell_type": "code",
   "execution_count": null,
   "id": "32ab0478",
   "metadata": {},
   "outputs": [],
   "source": [
    "genresList = [\n",
    "  \"Action\",\n",
    "  \"Adventure\",\n",
    "  \"Animation\",\n",
    "  \"Children\",\n",
    "  \"Comedy\",\n",
    "  \"Crime\",\n",
    "  \"Documentary\",\n",
    "  \"Drama\",\n",
    "  \"Fantasy\",\n",
    "  \"Film-Noir\",\n",
    "  \"Horror\",\n",
    "  \"Musical\",\n",
    "  \"Mystery\",\n",
    "  \"Romance\",\n",
    "  \"Sci-Fi\",\n",
    "  \"Thriller\",\n",
    "    \n",
    "  \"War\",\n",
    "  \"Western\",\n",
    "  \"(no genres listed)\"\n",
    "]"
   ]
  },
  {
   "cell_type": "code",
   "execution_count": null,
   "id": "9b82170e",
   "metadata": {},
   "outputs": [],
   "source": [
    "def setGenresMatrix(genres):\n",
    "    movieGenresMatrix = []\n",
    "    movieGenresList = genres.split('|')\n",
    "    for x in genresList:\n",
    "        if (x in movieGenresList):\n",
    "            movieGenresMatrix.append(1)\n",
    "        else:\n",
    "            movieGenresMatrix.append(0) \n",
    "    return movieGenresMatrix\n",
    "mo['genresMatrix'] = mo.apply(lambda x: np.array(list(setGenresMatrix(x['genres']))), axis=1)\n",
    "mo.head(5)"
   ]
  },
  {
   "cell_type": "code",
   "execution_count": null,
   "id": "09cb0700",
   "metadata": {},
   "outputs": [],
   "source": [
    "genre=[]\n",
    "for i in genre_recs:\n",
    "    s=\"|\".join(i)\n",
    "    print(s)\n",
    "    genre.append(s)"
   ]
  },
  {
   "cell_type": "code",
   "execution_count": null,
   "id": "a194d58f",
   "metadata": {},
   "outputs": [],
   "source": [
    "df=pd.DataFrame()\n",
    "\n",
    "for i in genre:\n",
    "    dic=dict()\n",
    "    dic['genres']=i\n",
    "    df=df.append(dic,ignore_index=True)"
   ]
  },
  {
   "cell_type": "code",
   "execution_count": null,
   "id": "8bbd730f",
   "metadata": {},
   "outputs": [],
   "source": [
    "df.head()"
   ]
  },
  {
   "cell_type": "code",
   "execution_count": null,
   "id": "3b4daf53",
   "metadata": {},
   "outputs": [],
   "source": [
    "df['genresMatrix'] = df.apply(lambda x: np.array(list(setGenresMatrix(x['genres']))), axis=1)"
   ]
  },
  {
   "cell_type": "code",
   "execution_count": null,
   "id": "fd0e1d54",
   "metadata": {},
   "outputs": [],
   "source": [
    "df.head()"
   ]
  },
  {
   "cell_type": "code",
   "execution_count": null,
   "id": "0692150e",
   "metadata": {},
   "outputs": [],
   "source": [
    "#test로 뽑힌 영화 중 실제 사용자 시청한 장르 개수 세기.\n",
    "gen=[]\n",
    "for cc in movies[movies.index==0]:\n",
    "    if cc not in gen:\n",
    "        gen.append(cc)\n",
    "\n",
    "\n",
    "cnts=pd.DataFrame(None, columns=gen)\n",
    "tt=[]\n",
    "for ii in gen:\n",
    "    tt.append(0)\n",
    "\n",
    "#print(cnts)\n",
    "print(df.size)\n",
    "print(np.array(df.loc[0]['genresMatrix']).tolist())\n",
    "for i in range(0,10):\n",
    "    cnts.loc[i]=tt\n",
    "    for j in actual[i]:\n",
    "        print(i,\"/\",j)\n",
    "        count=0\n",
    "        for cc in np.array(df.loc[j]['genresMatrix']).tolist():\n",
    "            try: \n",
    "                #print(cc)\n",
    "                cnts.loc[i][count]=cnts.loc[i][count]+cc\n",
    "                count+=1\n",
    "            except:\n",
    "                #print(j,\"번 정보가 없습니다.\")\n",
    "                exception_data.append(j)\n",
    "                cnts.loc[i]['(no genres listed)']+=1\n",
    "                break \n",
    "            \n",
    "            \n",
    "\n",
    "#cnts를 통해 i번째 사용자의 실제 시청 영화 장르의 개수를 센다.\n",
    "print(cnts)        \n",
    "           \n",
    "# 장르가 없는 데이터 리스트\n",
    "#print(exception_data)\n",
    "\n"
   ]
  },
  {
   "cell_type": "code",
   "execution_count": null,
   "id": "6c6eb53d",
   "metadata": {},
   "outputs": [],
   "source": [
    "\n"
   ]
  },
  {
   "cell_type": "code",
   "execution_count": null,
   "id": "f0fb4b32",
   "metadata": {},
   "outputs": [],
   "source": [
    "ngenre=[]\n",
    "for gen in df['genresMatrix']:\n",
    "    \n",
    "    genre=[]\n",
    "    for x in range(len(gen)):\n",
    "        if(gen[x]==0):\n",
    "            genre.append(genresList[x])\n",
    "    ngenre.append(genre)\n",
    "        \n",
    "    \n",
    "        \n",
    "    \n",
    "    "
   ]
  },
  {
   "cell_type": "code",
   "execution_count": null,
   "id": "6b3e90c8",
   "metadata": {},
   "outputs": [],
   "source": [
    "print(ngenre)"
   ]
  },
  {
   "cell_type": "code",
   "execution_count": null,
   "id": "d8f0a10d",
   "metadata": {},
   "outputs": [],
   "source": [
    "print(test.index)"
   ]
  },
  {
   "cell_type": "code",
   "execution_count": null,
   "id": "b3931fb4",
   "metadata": {},
   "outputs": [],
   "source": [
    "mov=pd.read_csv('c:/moviedb/moviedb.csv')\n",
    "mov.query('movieId in @rated_movies')\n",
    "genre_recs=[]\n",
    "for user in test.index:\n",
    "    genr=[]\n",
    "    movie=mov[mov['userId']==user]\n",
    "    movie=movie.sort_values(by=['timestamp'], axis=0,ascending=False )\n",
    "    movie=movie[1:10]\n",
    "    for gen in movie['genres']:\n",
    "        genr.append(gen)\n",
    "    genre_recs.append(genr)\n",
    "        \n",
    "    "
   ]
  },
  {
   "cell_type": "code",
   "execution_count": null,
   "id": "83d3974a",
   "metadata": {},
   "outputs": [],
   "source": [
    "print(genre_recs)"
   ]
  },
  {
   "cell_type": "code",
   "execution_count": null,
   "id": "51b3569d",
   "metadata": {},
   "outputs": [],
   "source": [
    "genre=[]\n",
    "for i in genre_recs:\n",
    "    s=\"|\".join(i)\n",
    "    print(s)\n",
    "    genre.append(s)"
   ]
  },
  {
   "cell_type": "code",
   "execution_count": null,
   "id": "6a553c84",
   "metadata": {},
   "outputs": [],
   "source": [
    "dp=pd.DataFrame()\n",
    "\n",
    "for i in genre:\n",
    "    dic=dict()\n",
    "    dic['genres']=i\n",
    "    dp=dp.append(dic,ignore_index=True)\n",
    "dp['userId']=test.index"
   ]
  },
  {
   "cell_type": "code",
   "execution_count": null,
   "id": "e83e06d0",
   "metadata": {},
   "outputs": [],
   "source": [
    "dp.head()"
   ]
  },
  {
   "cell_type": "code",
   "execution_count": null,
   "id": "406603a1",
   "metadata": {},
   "outputs": [],
   "source": [
    "dp['genresMatrix'] = dp.apply(lambda x: np.array(list(setGenresMatrix(x['genres']))), axis=1)"
   ]
  },
  {
   "cell_type": "code",
   "execution_count": null,
   "id": "20b867f4",
   "metadata": {},
   "outputs": [],
   "source": [
    "dp.head()"
   ]
  },
  {
   "cell_type": "code",
   "execution_count": null,
   "id": "47080e0a",
   "metadata": {},
   "outputs": [],
   "source": [
    "ngenre=[]\n",
    "for gen in dp['genresMatrix']:\n",
    "    \n",
    "    genre=[]\n",
    "    for x in range(len(gen)):\n",
    "        if(gen[x]==0):\n",
    "            genre.append(genresList[x])\n",
    "    ngenre.append(genre)"
   ]
  },
  {
   "cell_type": "code",
   "execution_count": null,
   "id": "e1a4d6a2",
   "metadata": {},
   "outputs": [],
   "source": [
    "print(ngenre)"
   ]
  },
  {
   "cell_type": "code",
   "execution_count": null,
   "id": "03eb026d",
   "metadata": {},
   "outputs": [],
   "source": [
    "ng=pd.DataFrame()\n",
    "ng['user']=test.index\n",
    "ng['ngenres']=ngenre"
   ]
  },
  {
   "cell_type": "code",
   "execution_count": null,
   "id": "30bb8ea0",
   "metadata": {},
   "outputs": [],
   "source": [
    "ng.head()"
   ]
  },
  {
   "cell_type": "code",
   "execution_count": null,
   "id": "62866af3",
   "metadata": {},
   "outputs": [],
   "source": [
    "gratio_recs=[]\n",
    "mv=pd.read_csv('c:/moviedb/movies.csv')\n",
    "compare=[]\n",
    "for i in range(0,len(person)):\n",
    "    gratio=[]\n",
    "    \n",
    "    for user_id in person[i]:\n",
    "        gratio_prediction=rate[rate['userId']==user_id-1]\n",
    "        gratio_prediction=gratio_prediction.sort_values(by=['timestamp'], axis=0,ascending=False )\n",
    "        gmovie=[]\n",
    "        for mid in gratio_prediction['movieId']:\n",
    "            ge=mv[mv['movieId']==mid]\n",
    "            glist=ge['genres']\n",
    "            glist=glist.str.split('|')\n",
    "           \n",
    "            for g in glist:\n",
    "                for x in g:\n",
    "                    if x in ngenre[i]:\n",
    "                        gmovie.append(mid)\n",
    "        gm=gmovie[0]\n",
    "        gratio.append(gm)               \n",
    "           \n",
    "            \n",
    "                        \n",
    "                        \n",
    "            \n",
    "        \n",
    "        \n",
    "   \n",
    "    gratio_recs.append(gratio)"
   ]
  },
  {
   "cell_type": "code",
   "execution_count": null,
   "id": "5b4c65eb",
   "metadata": {},
   "outputs": [],
   "source": [
    "print(gratio_recs)\n"
   ]
  },
  {
   "cell_type": "code",
   "execution_count": null,
   "id": "fe9cf41e",
   "metadata": {},
   "outputs": [],
   "source": [
    "test['new_gratio_predictions']=gratio_recs"
   ]
  },
  {
   "cell_type": "code",
   "execution_count": null,
   "id": "bb6a6e5a",
   "metadata": {},
   "outputs": [],
   "source": [
    "actual = test.actual.values.tolist()\n",
    "cf_predictions = test.cf_predictions.values.tolist()\n",
    "pop_predictions = test.pop_predictions.values.tolist()\n",
    "random_predictions = test.random_predictions.values.tolist()\n",
    "new_gratio_predictions=test.new_gratio_predictions.values.tolist()"
   ]
  },
  {
   "cell_type": "code",
   "execution_count": null,
   "id": "6a0498e9",
   "metadata": {},
   "outputs": [],
   "source": [
    "ngr_mark=[]\n",
    "for K in np.arange(1, 11):\n",
    "    ngr_mark.extend([recmetrics.mark(actual, new_gratio_predictions, k=K)])\n",
    "ngr_mark"
   ]
  },
  {
   "cell_type": "code",
   "execution_count": null,
   "id": "c09574f9",
   "metadata": {},
   "outputs": [],
   "source": [
    "mark_scores = [random_mark, pop_mark, cf_mark,gr_mark,ngr_mark]\n",
    "index = range(1,10+1)\n",
    "names = ['Random Recommender', 'Popularity Recommender', 'Collaborative Filter','Gratio Recommender','new Gratio Recommender']\n",
    "\n",
    "fig = plt.figure(figsize=(15, 7))\n",
    "recmetrics.mark_plot(mark_scores, model_names=names, k_range=index)"
   ]
  },
  {
   "cell_type": "code",
   "execution_count": null,
   "id": "43e4a825",
   "metadata": {},
   "outputs": [],
   "source": []
  },
  {
   "cell_type": "code",
   "execution_count": null,
   "id": "2fb1112a",
   "metadata": {},
   "outputs": [],
   "source": []
  },
  {
   "cell_type": "code",
   "execution_count": null,
   "id": "918238e7",
   "metadata": {},
   "outputs": [],
   "source": []
  },
  {
   "cell_type": "code",
   "execution_count": null,
   "id": "c3043c91",
   "metadata": {},
   "outputs": [],
   "source": []
  },
  {
   "cell_type": "code",
   "execution_count": null,
   "id": "7754aa25",
   "metadata": {},
   "outputs": [],
   "source": []
  },
  {
   "cell_type": "code",
   "execution_count": null,
   "id": "08190310",
   "metadata": {},
   "outputs": [],
   "source": []
  }
 ],
 "metadata": {
  "kernelspec": {
   "display_name": "Python 3",
   "language": "python",
   "name": "python3"
  },
  "language_info": {
   "codemirror_mode": {
    "name": "ipython",
    "version": 3
   },
   "file_extension": ".py",
   "mimetype": "text/x-python",
   "name": "python",
   "nbconvert_exporter": "python",
   "pygments_lexer": "ipython3",
   "version": "3.7.9"
  }
 },
 "nbformat": 4,
 "nbformat_minor": 5
}
